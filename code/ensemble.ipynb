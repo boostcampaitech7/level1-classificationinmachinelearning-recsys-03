{
 "cells": [
  {
   "cell_type": "markdown",
   "metadata": {},
   "source": [
    "### Library Import"
   ]
  },
  {
   "cell_type": "code",
   "execution_count": null,
   "metadata": {},
   "outputs": [],
   "source": [
    "import os\n",
    "from typing import Any, List, Dict, Tuple\n",
    "from tqdm import tqdm\n",
    "import numpy as np\n",
    "import pandas as pd\n",
    "from sklearn.model_selection import KFold\n",
    "from xgboost import XGBRegressor\n",
    "import lightgbm as lgb\n",
    "import optuna\n",
    "from sklearn.ensemble import VotingRegressor\n",
    "from data_preprocessing import *\n",
    "from sklearn.metrics import accuracy_score, mean_absolute_error, mean_squared_error, mean_absolute_percentage_error\n",
    "from sklearn.linear_model import LinearRegression, Ridge, Lasso\n",
    "import matplotlib.pyplot as plt\n",
    "import warnings\n",
    "warnings.filterwarnings('ignore')"
   ]
  },
  {
   "cell_type": "markdown",
   "metadata": {},
   "source": [
    "### Data Load"
   ]
  },
  {
   "cell_type": "code",
   "execution_count": 2,
   "metadata": {},
   "outputs": [],
   "source": [
    "# 파일 호출\n",
    "data_path: str = \"/data/ephemeral/home/BTC/data\"\n",
    "train_df: pd.DataFrame = pd.read_csv(os.path.join(data_path, \"train.csv\")).assign(_type=\"train\") # train 에는 _type = train \n",
    "test_df: pd.DataFrame = pd.read_csv(os.path.join(data_path, \"test.csv\")).assign(_type=\"test\") # test 에는 _type = test\n",
    "submission_df: pd.DataFrame = pd.read_csv(os.path.join(data_path, \"test.csv\")) # ID, target 열만 가진 데이터 미리 호출\n",
    "df: pd.DataFrame = pd.concat([train_df, test_df], axis=0)"
   ]
  },
  {
   "cell_type": "code",
   "execution_count": null,
   "metadata": {},
   "outputs": [],
   "source": [
    "# HOURLY_ 로 시작하는 .csv 파일 이름을 file_names 에 할딩\n",
    "file_names: List[str] = [\n",
    "    f for f in os.listdir(data_path) if f.startswith(\"HOURLY_\") and f.endswith(\".csv\")\n",
    "]\n",
    "\n",
    "# 파일명 : 데이터프레임으로 딕셔너리 형태로 저장\n",
    "file_dict: Dict[str, pd.DataFrame] = {\n",
    "    f.replace(\".csv\", \"\"): pd.read_csv(os.path.join(data_path, f)) for f in file_names\n",
    "}\n",
    "\n",
    "for _file_name, _df in tqdm(file_dict.items()):\n",
    "    # 열 이름 중복 방지를 위해 {_file_name.lower()}_{col.lower()}로 변경, datetime 열을 ID로 변경\n",
    "    _rename_rule = {\n",
    "        col: f\"{_file_name.lower()}_{col.lower()}\" if col != \"datetime\" else \"ID\"\n",
    "        for col in _df.columns\n",
    "    }\n",
    "    _df = _df.rename(_rename_rule, axis=1)\n",
    "    df = df.merge(_df, on=\"ID\", how=\"left\")\n"
   ]
  },
  {
   "cell_type": "markdown",
   "metadata": {},
   "source": [
    "### Feature engineering"
   ]
  },
  {
   "cell_type": "code",
   "execution_count": null,
   "metadata": {},
   "outputs": [],
   "source": [
    "# 모델에 사용할 컬럼, 컬럼의 rename rule을 미리 할당함\n",
    "cols_dict: Dict[str, str] = {\n",
    "    \"ID\": \"ID\",\n",
    "    \"target\": \"target\",\n",
    "    \"_type\": \"_type\",\n",
    "    \"hourly_market-data_liquidations_all_exchange_all_symbol_long_liquidations\": \"long_liquidations\",\n",
    "    \"hourly_market-data_liquidations_all_exchange_all_symbol_short_liquidations\": \"short_liquidations\",\n",
    "    \"hourly_market-data_open-interest_all_exchange_all_symbol_open_interest\": \"open_interest\",\n",
    "    \"hourly_market-data_price-ohlcv_all_exchange_spot_btc_usd_close\": \"close\",\n",
    "    \"hourly_market-data_taker-buy-sell-stats_all_exchange_taker_buy_volume\": \"taker_buy_volume\",\n",
    "    \"hourly_market-data_taker-buy-sell-stats_all_exchange_taker_sell_volume\": \"taker_sell_volume\",\n",
    "    \"hourly_network-data_addresses-count_addresses_count_active\": \"addresses_count_active\",\n",
    "    \"hourly_network-data_addresses-count_addresses_count_sender\": \"addresses_count_sender\",\n",
    "    \"hourly_network-data_addresses-count_addresses_count_receiver\": \"addresses_count_receiver\",\n",
    "    \"hourly_network-data_block-bytes_block_bytes\": \"block_bytes\",\n",
    "    \"hourly_network-data_block-interval_block_interval\": \"block_interval\",\n",
    "    \"hourly_network-data_blockreward_blockreward\": \"blockreward\",\n",
    "    \"hourly_network-data_difficulty_difficulty\": \"difficulty\",\n",
    "    \"hourly_network-data_hashrate_hashrate\": \"hashrate\",\n",
    "    \"hourly_network-data_supply_supply_total\": \"supply_total\",\n",
    "    \"hourly_network-data_tokens-transferred_tokens_transferred_total\": \"tokens_transferred_total\",\n",
    "    \"hourly_network-data_transactions-count_transactions_count_total\": \"transactions_count_total\",\n",
    "    \"hourly_network-data_utxo-count_utxo_count\": \"utxo_count\",\n",
    "    \"hourly_network-data_velocity_velocity_supply_total\": \"velocity_supply_total\"\n",
    "}\n",
    "df = df[cols_dict.keys()].rename(cols_dict, axis=1)\n",
    "df.shape"
   ]
  },
  {
   "cell_type": "code",
   "execution_count": 5,
   "metadata": {},
   "outputs": [],
   "source": [
    "# continuous 열을 따로 할당해둠\n",
    "conti_cols: List[str] = [\n",
    "    \"close\",\n",
    "    \"open_interest\",\n",
    "    \"difficulty\",\n",
    "    \"supply_total\",\n",
    "    \"utxo_count\"\n",
    "]\n",
    "\n",
    "# 최대 24시간의 shift 피쳐를 계산\n",
    "shift_list = shift_feature(\n",
    "    df=df, conti_cols=conti_cols, intervals=[_ for _ in range(1, 6)]\n",
    ")\n",
    "\n",
    "# concat 하여 df 에 할당\n",
    "df = pd.concat([df, pd.concat(shift_list, axis=1)], axis=1)"
   ]
  },
  {
   "cell_type": "code",
   "execution_count": 6,
   "metadata": {},
   "outputs": [],
   "source": [
    "# _type에 따라 train, test 분리\n",
    "train_df = df.loc[df[\"_type\"]==\"train\"].drop(columns=[\"_type\"])\n",
    "test_df = df.loc[df[\"_type\"]==\"test\"].drop(columns=[\"_type\"])"
   ]
  },
  {
   "cell_type": "markdown",
   "metadata": {},
   "source": [
    "### Model Train"
   ]
  },
  {
   "cell_type": "code",
   "execution_count": 7,
   "metadata": {},
   "outputs": [],
   "source": [
    "def close_to_class(series: pd.Series) -> pd.Series:\n",
    "    \"\"\"close 변수를 target값으로 변환하는 함수입니다.\n",
    "\n",
    "    Args:\n",
    "        series (pd.Series): 변환을 원하는 close 변수\n",
    "\n",
    "    Returns:\n",
    "        pd.Series: 변환된 target 값\n",
    "    \"\"\"\n",
    "    close = pd.DataFrame()\n",
    "    close['close'] = series\n",
    "    close['close_lag1'] = close['close'].shift(1)\n",
    "    close['close_lag1_percent'] = (close['close'] - close['close_lag1']) / close['close_lag1']\n",
    "    close['class'] = close['close']\n",
    "    for i in range(close.shape[0]):\n",
    "        if close.loc[i, 'close_lag1_percent'] < -0.005:\n",
    "            close.loc[i, 'class'] = 0\n",
    "        elif close.loc[i, 'close_lag1_percent'] < 0:\n",
    "            close.loc[i, 'class'] = 1\n",
    "        elif close.loc[i, 'close_lag1_percent'] < 0.005:\n",
    "            close.loc[i, 'class'] = 2\n",
    "        else:\n",
    "            close.loc[i, 'class'] = 3\n",
    "            \n",
    "    return close[\"class\"].shift(-1).fillna(method=\"ffill\")"
   ]
  },
  {
   "cell_type": "code",
   "execution_count": 8,
   "metadata": {},
   "outputs": [],
   "source": [
    "# 모델 평가\n",
    "def evaluate(valid_target: pd.Series, \n",
    "             y_valid: pd.Series, \n",
    "             y_pred: np.ndarray, \n",
    "             metric: str\n",
    ") -> float:\n",
    "    \"\"\"평가지표 metric을 반환하는 함수입니다.\n",
    "\n",
    "    Args:\n",
    "        valid_target: (pd.Series): k-fold로 분할한 target의 검증 데이터\n",
    "        y_valid (pd.Series): k-fold로 분할한 close의 검증 데이터\n",
    "        y_pred (np.ndarray): 모델을 사용하여 예측한 변수\n",
    "        metric (str): 사용할 평가지표 metric 이름\n",
    "\n",
    "    Returns:\n",
    "        float: 사용할 평가지표 metric 값\n",
    "    \"\"\"\n",
    "    if metric == \"accuracy\":\n",
    "        y_pred_class = close_to_class(y_pred)\n",
    "        return accuracy_score(valid_target, y_pred_class)\n",
    "    elif metric == \"mae\":\n",
    "        return mean_absolute_error(y_valid, y_pred)\n",
    "    elif metric == \"mse\":\n",
    "        return mean_squared_error(y_valid, y_pred)\n",
    "    elif metric == \"mape\":\n",
    "        return mean_absolute_percentage_error(y_valid, y_pred)"
   ]
  },
  {
   "cell_type": "code",
   "execution_count": 9,
   "metadata": {},
   "outputs": [],
   "source": [
    "def model_train(\n",
    "    model,\n",
    "    X_train,\n",
    "    y_train,\n",
    "    cv: int = 5,\n",
    "    metric: str = \"accuracy\"\n",
    ") -> tuple[None, float]:\n",
    "    \"\"\"모델을 불러와 cross validation을 이용해 예측 성능을 확인하는 함수입니다.\n",
    "\n",
    "    Args:\n",
    "        model (Any): 학습을 수행할 모델\n",
    "        X_train (Any): 훈련 데이터 피처\n",
    "        y_train (Any): 훈련 데이터\n",
    "        cv (int): KFold 검정 횟수\n",
    "        metric (str): 성능 지표. accuracy(target), mae, mape mse 중 선택.\n",
    "\n",
    "    Returns:\n",
    "        _type_: _description_\n",
    "    \"\"\"\n",
    "    kfold = KFold(n_splits=cv)\n",
    "    score_list = []\n",
    "    fold_model = []\n",
    "    # warm_start는 모델의 속성으로, 같은 모델을 반복 학습할 때 이전 학습에서 학습된 파라미터를 초기화하지 않고 이어서 학습을 진행하는 옵션\n",
    "    if hasattr(model, \"warm_start\"):\n",
    "        model.warm_start = True\n",
    "    \n",
    "    for train_index, valid_index in kfold.split(X_train):\n",
    "        X_train_fold, y_train_fold = X_train.iloc[train_index], y_train.iloc[train_index]\n",
    "        X_valid, y_valid = X_train.iloc[valid_index], y_train.iloc[valid_index]\n",
    "\n",
    "        valid_target = X_valid[\"target\"]\n",
    "        X_train_fold.drop(\"target\", axis=1, inplace=True)\n",
    "        X_valid.drop(\"target\", axis=1, inplace=True)\n",
    "\n",
    "        # preprocessing\n",
    "        X_train_fold.fillna(X_train_fold.mean(), inplace=True)\n",
    "        y_train_fold.fillna(y_train_fold.mean(), inplace=True)\n",
    "        X_valid.fillna(X_valid.mean(), inplace=True)\n",
    "        y_valid.fillna(y_valid.mean(), inplace=True)\n",
    "\n",
    "        model.fit(X_train_fold, y_train_fold)\n",
    "        fold_model.append(model)\n",
    "\n",
    "        y_pred = model.predict(X_valid)\n",
    "        score = evaluate(valid_target, y_valid, y_pred, metric=metric)\n",
    "        score_list.append(score)\n",
    "    \n",
    "    return fold_model[np.argmax(score_list)], np.max(score_list)"
   ]
  },
  {
   "cell_type": "code",
   "execution_count": 10,
   "metadata": {},
   "outputs": [],
   "source": [
    "X_train = train_df.drop([\"ID\", \"close\"], axis=1)\n",
    "y_train = train_df[\"close\"]\n",
    "X_test = test_df.drop([\"ID\", \"close\"], axis=1)\n",
    "y_test = test_df[\"close\"]\n",
    "X_test.fillna(X_test.mean(), inplace=True)\n",
    "y_test.fillna(y_test.mean(), inplace=True)"
   ]
  },
  {
   "cell_type": "markdown",
   "metadata": {},
   "source": [
    "### Model Ensemble"
   ]
  },
  {
   "cell_type": "code",
   "execution_count": 11,
   "metadata": {},
   "outputs": [],
   "source": [
    "xgb_params = {\n",
    "    'n_estimators': 159,\n",
    "    'learning_rate': 0.044545369253400344,\n",
    "    'max_depth': 7,\n",
    "    'min_child_weight': 5,\n",
    "    'colsample_bytree': 0.5878501242431816,\n",
    "    'subsample': 0.7729401646786744,\n",
    "    \"booster\": \"gbtree\",\n",
    "    \"device\": \"gpu\",\n",
    "    \"random_state\": 42\n",
    "}\n",
    "lgb_params = {\n",
    "    \"verbose\" : -1,\n",
    "    \"num_leaves\" : 55,\n",
    "    \"learning_rate\" : 0.024012082225330366,\n",
    "    \"n_estimators\": 245,\n",
    "    \"max_depth\" : 4,\n",
    "    \"min_child_weight\" : 2,\n",
    "    \"subsample\" : 0.8121704803110622,\n",
    "    \"colsample_bytree\" : 0.5396346553816902,\n",
    "    \"random_state\" : 42\n",
    "}"
   ]
  },
  {
   "cell_type": "code",
   "execution_count": 12,
   "metadata": {},
   "outputs": [],
   "source": [
    "# 앙상블에 사용할 회귀 모델들\n",
    "xgb_model = XGBRegressor(**xgb_params)\n",
    "lgb_model = lgb.LGBMRegressor(**lgb_params)\n",
    "lr_model = Lasso(alpha=20, max_iter=2000, random_state=42)"
   ]
  },
  {
   "cell_type": "code",
   "execution_count": 13,
   "metadata": {},
   "outputs": [],
   "source": [
    "# Voting Regressor로 앙상블 진행\n",
    "ensemble_model = VotingRegressor([('xgb', xgb_model), ('lgb', lgb_model), ('lr', lr_model)])"
   ]
  },
  {
   "cell_type": "code",
   "execution_count": null,
   "metadata": {},
   "outputs": [],
   "source": [
    "# 학습\n",
    "Best_ensemble_model, model_accuracy = model_train(ensemble_model, X_train, y_train, cv=5, metric=\"accuracy\")\n",
    "print(f\"Ensemble model accuracy: {model_accuracy}\")"
   ]
  },
  {
   "cell_type": "markdown",
   "metadata": {},
   "source": [
    "### Inference"
   ]
  },
  {
   "cell_type": "code",
   "execution_count": 15,
   "metadata": {},
   "outputs": [],
   "source": [
    "# lr predict\n",
    "X_train_drop = fill_feature(X_train.drop(\"target\", axis=1), method=\"mean\")\n",
    "Best_ensemble_model.fit(X_train_drop, y_train)\n",
    "\n",
    "y_test_pred = Best_ensemble_model.predict(X_test.drop(\"target\", axis=1))\n",
    "y_test_pred_class = close_to_class(y_test_pred)"
   ]
  },
  {
   "cell_type": "code",
   "execution_count": 16,
   "metadata": {},
   "outputs": [],
   "source": [
    "# lr output\n",
    "submission_df = submission_df.assign(target = y_test_pred_class)\n",
    "submission_df[\"target\"] = submission_df[\"target\"].astype(np.int8)\n",
    "submission_df.to_csv(\"output.csv\", index=False)"
   ]
  },
  {
   "cell_type": "code",
   "execution_count": null,
   "metadata": {},
   "outputs": [],
   "source": [
    "submission_df['target'].value_counts()"
   ]
  }
 ],
 "metadata": {
  "kernelspec": {
   "display_name": "base",
   "language": "python",
   "name": "python3"
  },
  "language_info": {
   "codemirror_mode": {
    "name": "ipython",
    "version": 3
   },
   "file_extension": ".py",
   "mimetype": "text/x-python",
   "name": "python",
   "nbconvert_exporter": "python",
   "pygments_lexer": "ipython3",
   "version": "3.10.13"
  }
 },
 "nbformat": 4,
 "nbformat_minor": 2
}
