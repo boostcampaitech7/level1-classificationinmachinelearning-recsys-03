{
 "cells": [
  {
   "cell_type": "code",
   "execution_count": 1,
   "metadata": {},
   "outputs": [],
   "source": [
    "import pandas as pd\n",
    "import numpy as np\n",
    "import os"
   ]
  },
  {
   "cell_type": "code",
   "execution_count": 2,
   "metadata": {},
   "outputs": [],
   "source": [
    "def close_to_class(series: pd.Series) -> pd.Series:\n",
    "    \"\"\"close 변수를 target값으로 변환하는 함수입니다.\n",
    "\n",
    "    Args:\n",
    "        series (pd.Series): 변환을 원하는 close 변수\n",
    "\n",
    "    Returns:\n",
    "        pd.Series: 변환된 target 값\n",
    "    \"\"\"\n",
    "    close = pd.DataFrame()\n",
    "    close[\"close\"] = series\n",
    "    close[\"close_lag1\"] = close[\"close\"].shift(1)\n",
    "    close[\"close_lag1_percent\"] = (close[\"close\"] - close[\"close_lag1\"]) / close[\"close_lag1\"]\n",
    "    close[\"class\"] = close[\"close\"]\n",
    "    for i in range(close.shape[0]):\n",
    "        if close.loc[i, \"close_lag1_percent\"] < -0.005:\n",
    "            close.loc[i, \"class\"] = 0\n",
    "        elif close.loc[i, \"close_lag1_percent\"] < 0:\n",
    "            close.loc[i, \"class\"] = 1\n",
    "        elif close.loc[i, \"close_lag1_percent\"] < 0.005:\n",
    "            close.loc[i, \"class\"] = 2\n",
    "        else:\n",
    "            close.loc[i, \"class\"] = 3\n",
    "            \n",
    "    return close[\"class\"].shift(-1).fillna(method=\"ffill\")"
   ]
  },
  {
   "cell_type": "code",
   "execution_count": 3,
   "metadata": {},
   "outputs": [
    {
     "name": "stderr",
     "output_type": "stream",
     "text": [
      "/tmp/ipykernel_823384/30059925.py:25: FutureWarning: Series.fillna with 'method' is deprecated and will raise in a future version. Use obj.ffill() or obj.bfill() instead.\n",
      "  return close[\"class\"].shift(-1).fillna(method=\"ffill\")\n"
     ]
    }
   ],
   "source": [
    "data_path: str = \"/data/ephemeral/home/BTC/data\"\n",
    "lr_pred = pd.read_csv(os.path.join(data_path, \"predicted_values_lasso.csv\"))\n",
    "lgb_pred = pd.read_csv(os.path.join(data_path, \"predicted_values_lgb.csv\"))\n",
    "xgb_pred = pd.read_csv(os.path.join(data_path, \"predicted_values_xgb.csv\"))\n",
    "close_pred = (lr_pred + lgb_pred + xgb_pred) / 3\n",
    "\n",
    "target_pred = close_to_class(close_pred)"
   ]
  },
  {
   "cell_type": "code",
   "execution_count": 4,
   "metadata": {},
   "outputs": [],
   "source": [
    "submission_df: pd.DataFrame = pd.read_csv(os.path.join(data_path, \"test.csv\"))\n",
    "submission_df = submission_df.assign(target = target_pred)\n",
    "submission_df[\"target\"] = submission_df[\"target\"].astype(np.int8)\n",
    "submission_df.to_csv(\"predicted_values_ensemble.csv\", index=False)"
   ]
  },
  {
   "cell_type": "code",
   "execution_count": 5,
   "metadata": {},
   "outputs": [
    {
     "data": {
      "text/plain": [
       "target\n",
       "1    1136\n",
       "2    1117\n",
       "3     276\n",
       "0     263\n",
       "Name: count, dtype: int64"
      ]
     },
     "execution_count": 5,
     "metadata": {},
     "output_type": "execute_result"
    }
   ],
   "source": [
    "submission_df[\"target\"].value_counts()"
   ]
  }
 ],
 "metadata": {
  "kernelspec": {
   "display_name": "base",
   "language": "python",
   "name": "python3"
  },
  "language_info": {
   "codemirror_mode": {
    "name": "ipython",
    "version": 3
   },
   "file_extension": ".py",
   "mimetype": "text/x-python",
   "name": "python",
   "nbconvert_exporter": "python",
   "pygments_lexer": "ipython3",
   "version": "3.10.13"
  }
 },
 "nbformat": 4,
 "nbformat_minor": 2
}
