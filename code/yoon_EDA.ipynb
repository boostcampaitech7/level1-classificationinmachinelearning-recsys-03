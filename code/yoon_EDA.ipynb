{
 "cells": [
  {
   "cell_type": "markdown",
   "metadata": {},
   "source": [
    "### Library Import"
   ]
  },
  {
   "cell_type": "code",
   "execution_count": 96,
   "metadata": {},
   "outputs": [],
   "source": [
    "import os\n",
    "from typing import List, Dict\n",
    "from tqdm import tqdm\n",
    "import numpy as np\n",
    "import pandas as pd\n",
    "from sklearn.model_selection import train_test_split\n",
    "from sklearn.metrics import accuracy_score, roc_auc_score\n",
    "import lightgbm as lgb\n",
    "from plotly.subplots import make_subplots\n",
    "import plotly.graph_objects as go"
   ]
  },
  {
   "cell_type": "code",
   "execution_count": 97,
   "metadata": {},
   "outputs": [],
   "source": [
    "pd.set_option('display.max_columns', 500)\n",
    "pd.set_option('display.max_rows', 500)"
   ]
  },
  {
   "cell_type": "markdown",
   "metadata": {},
   "source": [
    "### Data Load"
   ]
  },
  {
   "cell_type": "code",
   "execution_count": 98,
   "metadata": {},
   "outputs": [],
   "source": [
    "# 파일 호출\n",
    "data_path: str = \"/data/ephemeral/home/BTC/data\"\n",
    "train_df: pd.DataFrame = pd.read_csv(os.path.join(data_path, \"train.csv\")).assign(_type=\"train\") # train 에는 _type = train \n",
    "test_df: pd.DataFrame = pd.read_csv(os.path.join(data_path, \"test.csv\")).assign(_type=\"test\") # test 에는 _type = test\n",
    "submission_df: pd.DataFrame = pd.read_csv(os.path.join(data_path, \"test.csv\")) # ID, target 열만 가진 데이터 미리 호출\n",
    "df: pd.DataFrame = pd.concat([train_df, test_df], axis=0)"
   ]
  },
  {
   "cell_type": "code",
   "execution_count": 99,
   "metadata": {},
   "outputs": [
    {
     "name": "stderr",
     "output_type": "stream",
     "text": [
      "100%|██████████| 107/107 [00:02<00:00, 38.09it/s]\n"
     ]
    }
   ],
   "source": [
    "# HOURLY_ 로 시작하는 .csv 파일 이름을 file_names 에 할딩\n",
    "file_names: List[str] = [\n",
    "    f for f in os.listdir(data_path) if f.startswith(\"HOURLY_\") and f.endswith(\".csv\")\n",
    "]\n",
    "\n",
    "# 파일명 : 데이터프레임으로 딕셔너리 형태로 저장\n",
    "file_dict: Dict[str, pd.DataFrame] = {\n",
    "    f.replace(\".csv\", \"\"): pd.read_csv(os.path.join(data_path, f)) for f in file_names\n",
    "}\n",
    "\n",
    "for _file_name, _df in tqdm(file_dict.items()):\n",
    "    # 열 이름 중복 방지를 위해 {_file_name.lower()}_{col.lower()}로 변경, datetime 열을 ID로 변경\n",
    "    _rename_rule = {\n",
    "        col: f\"{_file_name.lower()}_{col.lower()}\" if col != \"datetime\" else \"ID\"\n",
    "        for col in _df.columns\n",
    "    }\n",
    "    _df = _df.rename(_rename_rule, axis=1)\n",
    "    df = df.merge(_df, on=\"ID\", how=\"left\")\n"
   ]
  },
  {
   "cell_type": "markdown",
   "metadata": {},
   "source": [
    "### EDA (Explanatory Data Analysis)"
   ]
  },
  {
   "cell_type": "code",
   "execution_count": 100,
   "metadata": {},
   "outputs": [
    {
     "data": {
      "text/plain": [
       "hourly_market-data_open-interest_all_exchange_open_interest                       100.000000\n",
       "hourly_market-data_open-interest_okex_open_interest                               100.000000\n",
       "hourly_market-data_open-interest_bitmex_open_interest                             100.000000\n",
       "hourly_market-data_liquidations_ftx_all_symbol_long_liquidations                  100.000000\n",
       "hourly_market-data_liquidations_ftx_all_symbol_short_liquidations                 100.000000\n",
       "hourly_market-data_liquidations_ftx_all_symbol_long_liquidations_usd              100.000000\n",
       "hourly_market-data_liquidations_ftx_all_symbol_short_liquidations_usd             100.000000\n",
       "hourly_market-data_liquidations_ftx_btc_usd_short_liquidations                    100.000000\n",
       "hourly_market-data_liquidations_ftx_btc_usd_long_liquidations                     100.000000\n",
       "hourly_market-data_open-interest_binance_open_interest                            100.000000\n",
       "hourly_market-data_taker-buy-sell-stats_okex_taker_buy_volume                     100.000000\n",
       "hourly_market-data_taker-buy-sell-stats_okex_taker_buy_ratio                      100.000000\n",
       "hourly_market-data_taker-buy-sell-stats_okex_taker_sell_volume                    100.000000\n",
       "hourly_market-data_open-interest_ftx_btc_usd_open_interest                        100.000000\n",
       "hourly_market-data_liquidations_ftx_btc_usd_long_liquidations_usd                 100.000000\n",
       "hourly_market-data_taker-buy-sell-stats_okex_taker_sell_ratio                     100.000000\n",
       "hourly_market-data_taker-buy-sell-stats_okex_taker_buy_sell_ratio                 100.000000\n",
       "hourly_market-data_open-interest_okx_open_interest                                100.000000\n",
       "hourly_market-data_open-interest_deribit_open_interest                            100.000000\n",
       "hourly_market-data_liquidations_ftx_btc_usd_short_liquidations_usd                100.000000\n",
       "hourly_market-data_open-interest_bybit_open_interest                              100.000000\n",
       "hourly_market-data_liquidations_okex_btc_usd_short_liquidations_usd               100.000000\n",
       "hourly_market-data_liquidations_okex_btc_usd_long_liquidations_usd                100.000000\n",
       "hourly_market-data_liquidations_okex_btc_usd_short_liquidations                   100.000000\n",
       "hourly_market-data_liquidations_okex_btc_usd_long_liquidations                    100.000000\n",
       "hourly_market-data_liquidations_okex_all_symbol_short_liquidations_usd            100.000000\n",
       "hourly_market-data_liquidations_okex_all_symbol_long_liquidations_usd             100.000000\n",
       "hourly_market-data_liquidations_okex_all_symbol_short_liquidations                100.000000\n",
       "hourly_market-data_liquidations_okex_all_symbol_long_liquidations                 100.000000\n",
       "hourly_market-data_open-interest_gate_io_open_interest                            100.000000\n",
       "hourly_market-data_liquidations_okex_btc_usdt_short_liquidations                  100.000000\n",
       "hourly_market-data_liquidations_okex_btc_usdt_long_liquidations                   100.000000\n",
       "hourly_market-data_funding-rates_okex_funding_rates                               100.000000\n",
       "hourly_market-data_open-interest_bitfinex_open_interest                           100.000000\n",
       "hourly_market-data_liquidations_okex_btc_usdt_short_liquidations_usd              100.000000\n",
       "hourly_market-data_open-interest_ftx_open_interest                                100.000000\n",
       "hourly_market-data_open-interest_huobi_global_open_interest                       100.000000\n",
       "hourly_market-data_open-interest_kraken_open_interest                             100.000000\n",
       "hourly_market-data_open-interest_ftx_all_symbol_open_interest                     100.000000\n",
       "hourly_market-data_liquidations_okex_btc_usdt_long_liquidations_usd               100.000000\n",
       "hourly_market-data_liquidations_binance_btc_busd_long_liquidations_usd              1.004566\n",
       "hourly_market-data_open-interest_binance_btc_busd_open_interest                     1.004566\n",
       "hourly_market-data_liquidations_binance_btc_busd_short_liquidations                 1.004566\n",
       "hourly_market-data_liquidations_binance_btc_busd_long_liquidations                  1.004566\n",
       "hourly_market-data_liquidations_binance_btc_busd_short_liquidations_usd             1.004566\n",
       "hourly_market-data_funding-rates_bybit_funding_rates                                0.353881\n",
       "hourly_market-data_taker-buy-sell-stats_bybit_taker_sell_ratio                      0.342466\n",
       "hourly_market-data_taker-buy-sell-stats_bybit_taker_sell_volume                     0.342466\n",
       "hourly_market-data_taker-buy-sell-stats_bybit_taker_buy_volume                      0.342466\n",
       "hourly_market-data_taker-buy-sell-stats_bybit_taker_buy_sell_ratio                  0.342466\n",
       "hourly_market-data_taker-buy-sell-stats_bybit_taker_buy_ratio                       0.342466\n",
       "hourly_network-data_fees-transaction_fees_transaction_mean_usd                      0.216895\n",
       "hourly_network-data_fees-transaction_fees_transaction_mean                          0.216895\n",
       "hourly_network-data_transactions-count_transactions_count_mean                      0.216895\n",
       "hourly_network-data_block-bytes_block_bytes                                         0.216895\n",
       "hourly_network-data_difficulty_difficulty                                           0.216895\n",
       "hourly_network-data_block-interval_block_interval                                   0.216895\n",
       "hourly_network-data_tokens-transferred_tokens_transferred_mean                      0.216895\n",
       "hourly_network-data_fees_fees_reward_percent                                        0.216895\n",
       "hourly_network-data_fees_fees_block_mean                                            0.216895\n",
       "hourly_network-data_fees_fees_block_mean_usd                                        0.216895\n",
       "hourly_market-data_funding-rates_huobi_global_funding_rates                         0.136986\n",
       "hourly_market-data_taker-buy-sell-stats_okx_taker_sell_volume                       0.091324\n",
       "hourly_market-data_taker-buy-sell-stats_okx_taker_buy_ratio                         0.091324\n",
       "hourly_market-data_taker-buy-sell-stats_okx_taker_sell_ratio                        0.091324\n",
       "hourly_market-data_taker-buy-sell-stats_okx_taker_buy_volume                        0.091324\n",
       "hourly_market-data_taker-buy-sell-stats_okx_taker_buy_sell_ratio                    0.091324\n",
       "hourly_market-data_open-interest_deribit_btc_usd_open_interest                      0.091324\n",
       "hourly_market-data_liquidations_deribit_all_symbol_long_liquidations_usd            0.091324\n",
       "hourly_market-data_liquidations_deribit_all_symbol_short_liquidations               0.091324\n",
       "hourly_market-data_liquidations_deribit_all_symbol_long_liquidations                0.091324\n",
       "hourly_market-data_taker-buy-sell-stats_deribit_taker_buy_volume                    0.091324\n",
       "hourly_market-data_taker-buy-sell-stats_deribit_taker_sell_volume                   0.091324\n",
       "hourly_market-data_liquidations_deribit_all_symbol_short_liquidations_usd           0.091324\n",
       "hourly_market-data_liquidations_huobi_global_btc_usdt_short_liquidations            0.091324\n",
       "hourly_market-data_liquidations_huobi_global_btc_usdt_long_liquidations_usd         0.091324\n",
       "hourly_market-data_taker-buy-sell-stats_deribit_taker_buy_ratio                     0.091324\n",
       "hourly_market-data_liquidations_huobi_global_btc_usdt_short_liquidations_usd        0.091324\n",
       "hourly_market-data_taker-buy-sell-stats_deribit_taker_sell_ratio                    0.091324\n",
       "hourly_market-data_taker-buy-sell-stats_deribit_taker_buy_sell_ratio                0.091324\n",
       "hourly_market-data_open-interest_deribit_all_symbol_open_interest                   0.091324\n",
       "hourly_market-data_liquidations_huobi_global_btc_usdt_long_liquidations             0.091324\n",
       "hourly_market-data_open-interest_kraken_all_symbol_open_interest                    0.079909\n",
       "hourly_market-data_liquidations_gate_io_btc_usd_long_liquidations                   0.079909\n",
       "hourly_market-data_liquidations_binance_btc_usd_short_liquidations                  0.079909\n",
       "hourly_market-data_liquidations_binance_btc_usd_long_liquidations_usd               0.079909\n",
       "hourly_market-data_liquidations_binance_btc_usd_short_liquidations_usd              0.079909\n",
       "hourly_market-data_liquidations_huobi_global_btc_usd_short_liquidations_usd         0.079909\n",
       "hourly_market-data_liquidations_huobi_global_btc_usd_long_liquidations              0.079909\n",
       "hourly_market-data_liquidations_huobi_global_btc_usd_short_liquidations             0.079909\n",
       "hourly_market-data_liquidations_huobi_global_btc_usd_long_liquidations_usd          0.079909\n",
       "hourly_market-data_liquidations_gate_io_btc_usd_long_liquidations_usd               0.079909\n",
       "hourly_market-data_open-interest_huobi_global_btc_usdt_open_interest                0.079909\n",
       "hourly_market-data_open-interest_bitfinex_all_symbol_open_interest                  0.079909\n",
       "hourly_market-data_open-interest_okx_btc_usdt_open_interest                         0.079909\n",
       "hourly_market-data_liquidations_gate_io_btc_usd_short_liquidations_usd              0.079909\n",
       "hourly_market-data_liquidations_binance_btc_usd_long_liquidations                   0.079909\n",
       "hourly_market-data_liquidations_gate_io_btc_usd_short_liquidations                  0.079909\n",
       "hourly_market-data_liquidations_bybit_all_symbol_short_liquidations_usd             0.079909\n",
       "hourly_market-data_open-interest_gate_io_btc_usdt_open_interest                     0.079909\n",
       "hourly_market-data_liquidations_bybit_all_symbol_long_liquidations_usd              0.079909\n",
       "hourly_market-data_liquidations_bybit_all_symbol_short_liquidations                 0.079909\n",
       "hourly_market-data_open-interest_bybit_all_symbol_open_interest                     0.079909\n",
       "hourly_market-data_liquidations_bybit_all_symbol_long_liquidations                  0.079909\n",
       "hourly_market-data_open-interest_kraken_btc_usd_open_interest                       0.079909\n",
       "hourly_market-data_open-interest_huobi_global_btc_usd_open_interest                 0.079909\n",
       "hourly_market-data_open-interest_okx_btc_usd_open_interest                          0.079909\n",
       "hourly_market-data_open-interest_binance_btc_usdt_open_interest                     0.068493\n",
       "hourly_market-data_liquidations_binance_btc_usdt_short_liquidations_usd             0.068493\n",
       "hourly_market-data_liquidations_binance_btc_usdt_long_liquidations_usd              0.068493\n",
       "hourly_market-data_liquidations_binance_btc_usdt_long_liquidations                  0.068493\n",
       "hourly_market-data_liquidations_binance_btc_usdt_short_liquidations                 0.068493\n",
       "hourly_market-data_coinbase-premium-index_coinbase_premium_gap                      0.057078\n",
       "hourly_market-data_taker-buy-sell-stats_huobi_global_taker_buy_volume               0.057078\n",
       "hourly_market-data_taker-buy-sell-stats_huobi_global_taker_sell_volume              0.057078\n",
       "hourly_market-data_taker-buy-sell-stats_htx_global_taker_sell_ratio                 0.057078\n",
       "hourly_market-data_taker-buy-sell-stats_htx_global_taker_buy_sell_ratio             0.057078\n",
       "hourly_market-data_taker-buy-sell-stats_htx_global_taker_buy_ratio                  0.057078\n",
       "hourly_market-data_taker-buy-sell-stats_huobi_global_taker_buy_sell_ratio           0.057078\n",
       "hourly_market-data_taker-buy-sell-stats_htx_global_taker_buy_volume                 0.057078\n",
       "hourly_market-data_taker-buy-sell-stats_huobi_global_taker_buy_ratio                0.057078\n",
       "hourly_market-data_taker-buy-sell-stats_huobi_global_taker_sell_ratio               0.057078\n",
       "hourly_market-data_taker-buy-sell-stats_htx_global_taker_sell_volume                0.057078\n",
       "hourly_market-data_coinbase-premium-index_coinbase_premium_index                    0.057078\n",
       "hourly_market-data_funding-rates_htx_global_funding_rates                           0.045662\n",
       "hourly_market-data_taker-buy-sell-stats_binance_taker_buy_ratio                     0.034247\n",
       "hourly_market-data_taker-buy-sell-stats_binance_taker_sell_volume                   0.034247\n",
       "hourly_market-data_taker-buy-sell-stats_binance_taker_buy_volume                    0.034247\n",
       "hourly_market-data_taker-buy-sell-stats_binance_taker_sell_ratio                    0.034247\n",
       "hourly_market-data_taker-buy-sell-stats_binance_taker_buy_sell_ratio                0.034247\n",
       "hourly_market-data_open-interest_bybit_btc_usdt_open_interest                       0.011416\n",
       "hourly_market-data_taker-buy-sell-stats_bitmex_taker_buy_sell_ratio                 0.011416\n",
       "hourly_market-data_funding-rates_deribit_funding_rates                              0.011416\n",
       "hourly_market-data_liquidations_bybit_btc_usdt_long_liquidations                    0.011416\n",
       "hourly_market-data_liquidations_bybit_btc_usdt_short_liquidations                   0.011416\n",
       "hourly_market-data_liquidations_bybit_btc_usdt_long_liquidations_usd                0.011416\n",
       "hourly_market-data_liquidations_gate_io_all_symbol_short_liquidations_usd           0.011416\n",
       "hourly_market-data_liquidations_bybit_btc_usd_long_liquidations                     0.011416\n",
       "hourly_market-data_liquidations_bybit_btc_usd_short_liquidations                    0.011416\n",
       "hourly_market-data_liquidations_bybit_btc_usd_long_liquidations_usd                 0.011416\n",
       "hourly_market-data_liquidations_bybit_btc_usd_short_liquidations_usd                0.011416\n",
       "hourly_market-data_liquidations_bitmex_all_symbol_long_liquidations                 0.011416\n",
       "hourly_market-data_liquidations_deribit_btc_usd_long_liquidations                   0.011416\n",
       "hourly_market-data_liquidations_deribit_btc_usd_short_liquidations                  0.011416\n",
       "hourly_market-data_liquidations_okx_btc_usd_long_liquidations_usd                   0.011416\n",
       "hourly_market-data_liquidations_okx_btc_usd_short_liquidations_usd                  0.011416\n",
       "hourly_market-data_liquidations_huobi_global_all_symbol_long_liquidations           0.011416\n",
       "hourly_market-data_liquidations_huobi_global_all_symbol_short_liquidations          0.011416\n",
       "hourly_market-data_liquidations_huobi_global_all_symbol_long_liquidations_usd       0.011416\n",
       "hourly_market-data_liquidations_huobi_global_all_symbol_short_liquidations_usd      0.011416\n",
       "hourly_market-data_open-interest_bybit_btc_usd_open_interest                        0.011416\n",
       "hourly_market-data_funding-rates_bitmex_funding_rates                               0.011416\n",
       "hourly_market-data_funding-rates_okx_funding_rates                                  0.011416\n",
       "hourly_market-data_open-interest_binance_btc_usd_open_interest                      0.011416\n",
       "hourly_market-data_open-interest_gate_io_all_symbol_open_interest                   0.011416\n",
       "hourly_market-data_open-interest_bitmex_btc_usd_open_interest                       0.011416\n",
       "hourly_market-data_taker-buy-sell-stats_bitmex_taker_buy_volume                     0.011416\n",
       "hourly_market-data_taker-buy-sell-stats_bitmex_taker_sell_volume                    0.011416\n",
       "hourly_market-data_liquidations_bitmex_all_symbol_short_liquidations_usd            0.011416\n",
       "hourly_market-data_liquidations_bitfinex_btc_usdt_long_liquidations                 0.011416\n",
       "hourly_market-data_liquidations_okx_btc_usdt_short_liquidations_usd                 0.011416\n",
       "hourly_market-data_liquidations_bitmex_btc_usd_long_liquidations                    0.011416\n",
       "hourly_market-data_liquidations_bitmex_btc_usd_short_liquidations                   0.011416\n",
       "hourly_market-data_liquidations_bitmex_btc_usd_long_liquidations_usd                0.011416\n",
       "hourly_market-data_liquidations_bitmex_btc_usd_short_liquidations_usd               0.011416\n",
       "hourly_market-data_liquidations_okx_btc_usd_long_liquidations                       0.011416\n",
       "hourly_market-data_liquidations_okx_btc_usd_short_liquidations                      0.011416\n",
       "hourly_market-data_liquidations_okx_all_symbol_short_liquidations                   0.011416\n",
       "hourly_market-data_liquidations_gate_io_btc_usdt_long_liquidations                  0.011416\n",
       "hourly_market-data_liquidations_gate_io_btc_usdt_short_liquidations                 0.011416\n",
       "hourly_market-data_liquidations_gate_io_btc_usdt_long_liquidations_usd              0.011416\n",
       "hourly_market-data_liquidations_gate_io_btc_usdt_short_liquidations_usd             0.011416\n",
       "hourly_market-data_liquidations_bitfinex_btc_usdt_short_liquidations_usd            0.011416\n",
       "hourly_market-data_liquidations_bitmex_all_symbol_short_liquidations                0.011416\n",
       "hourly_market-data_liquidations_bitmex_all_symbol_long_liquidations_usd             0.011416\n",
       "hourly_market-data_liquidations_okx_all_symbol_long_liquidations_usd                0.011416\n",
       "hourly_market-data_liquidations_okx_all_symbol_short_liquidations_usd               0.011416\n",
       "hourly_market-data_open-interest_bitmex_all_symbol_open_interest                    0.011416\n",
       "hourly_market-data_liquidations_okx_btc_usdt_long_liquidations                      0.011416\n",
       "hourly_market-data_liquidations_okx_btc_usdt_short_liquidations                     0.011416\n",
       "hourly_market-data_liquidations_okx_btc_usdt_long_liquidations_usd                  0.011416\n",
       "hourly_market-data_liquidations_gate_io_all_symbol_long_liquidations                0.011416\n",
       "hourly_market-data_liquidations_gate_io_all_symbol_short_liquidations               0.011416\n",
       "hourly_market-data_liquidations_gate_io_all_symbol_long_liquidations_usd            0.011416\n",
       "hourly_market-data_liquidations_deribit_btc_usd_long_liquidations_usd               0.011416\n",
       "hourly_market-data_liquidations_bitfinex_all_symbol_short_liquidations              0.011416\n",
       "hourly_market-data_liquidations_bitfinex_all_symbol_long_liquidations_usd           0.011416\n",
       "hourly_market-data_liquidations_bitfinex_all_symbol_short_liquidations_usd          0.011416\n",
       "hourly_market-data_liquidations_deribit_btc_usd_short_liquidations_usd              0.011416\n",
       "hourly_market-data_taker-buy-sell-stats_bitmex_taker_sell_ratio                     0.011416\n",
       "hourly_market-data_taker-buy-sell-stats_bitmex_taker_buy_ratio                      0.011416\n",
       "hourly_market-data_liquidations_bybit_btc_usdt_short_liquidations_usd               0.011416\n",
       "hourly_market-data_open-interest_bitfinex_btc_usdt_open_interest                    0.011416\n",
       "hourly_market-data_liquidations_bitfinex_all_symbol_long_liquidations               0.011416\n",
       "hourly_market-data_liquidations_okx_all_symbol_long_liquidations                    0.011416\n",
       "hourly_market-data_open-interest_okx_all_symbol_open_interest                       0.011416\n",
       "hourly_market-data_liquidations_bitfinex_btc_usdt_short_liquidations                0.011416\n",
       "hourly_market-data_liquidations_bitfinex_btc_usdt_long_liquidations_usd             0.011416\n",
       "hourly_market-data_open-interest_huobi_global_all_symbol_open_interest              0.011416\n",
       "hourly_market-data_open-interest_gate_io_btc_usd_open_interest                      0.011416\n",
       "_type                                                                               0.000000\n",
       "hourly_market-data_liquidations_binance_all_symbol_long_liquidations_usd            0.000000\n",
       "hourly_market-data_liquidations_binance_all_symbol_short_liquidations_usd           0.000000\n",
       "hourly_network-data_fees_fees_total                                                 0.000000\n",
       "hourly_network-data_fees_fees_total_usd                                             0.000000\n",
       "hourly_network-data_blockreward_blockreward                                         0.000000\n",
       "hourly_market-data_liquidations_htx_global_btc_usdt_long_liquidations_usd           0.000000\n",
       "hourly_market-data_liquidations_htx_global_btc_usdt_short_liquidations_usd          0.000000\n",
       "hourly_network-data_transactions-count_transactions_count_total                     0.000000\n",
       "hourly_market-data_liquidations_htx_global_btc_usdt_long_liquidations               0.000000\n",
       "hourly_market-data_liquidations_htx_global_btc_usdt_short_liquidations              0.000000\n",
       "hourly_market-data_liquidations_htx_global_all_symbol_short_liquidations_usd        0.000000\n",
       "hourly_market-data_price-ohlcv_all_exchange_spot_btc_usd_close                      0.000000\n",
       "hourly_market-data_price-ohlcv_all_exchange_spot_btc_usd_volume                     0.000000\n",
       "hourly_network-data_supply_supply_total                                             0.000000\n",
       "hourly_network-data_supply_supply_new                                               0.000000\n",
       "hourly_market-data_open-interest_htx_global_btc_usdt_open_interest                  0.000000\n",
       "hourly_network-data_addresses-count_addresses_count_active                          0.000000\n",
       "hourly_network-data_addresses-count_addresses_count_sender                          0.000000\n",
       "hourly_network-data_addresses-count_addresses_count_receiver                        0.000000\n",
       "hourly_market-data_liquidations_htx_global_all_symbol_long_liquidations             0.000000\n",
       "hourly_market-data_liquidations_htx_global_all_symbol_short_liquidations            0.000000\n",
       "hourly_market-data_liquidations_htx_global_all_symbol_long_liquidations_usd         0.000000\n",
       "hourly_network-data_tokens-transferred_tokens_transferred_total                     0.000000\n",
       "hourly_network-data_tokens-transferred_tokens_transferred_median                    0.000000\n",
       "hourly_market-data_taker-buy-sell-stats_all_exchange_taker_buy_volume               0.000000\n",
       "hourly_market-data_taker-buy-sell-stats_all_exchange_taker_sell_volume              0.000000\n",
       "hourly_market-data_taker-buy-sell-stats_all_exchange_taker_buy_ratio                0.000000\n",
       "hourly_market-data_taker-buy-sell-stats_all_exchange_taker_sell_ratio               0.000000\n",
       "hourly_market-data_open-interest_htx_global_all_symbol_open_interest                0.000000\n",
       "hourly_market-data_funding-rates_binance_funding_rates                              0.000000\n",
       "hourly_market-data_liquidations_all_exchange_all_symbol_short_liquidations_usd      0.000000\n",
       "hourly_network-data_velocity_velocity_supply_total                                  0.000000\n",
       "hourly_market-data_liquidations_htx_global_btc_usd_long_liquidations                0.000000\n",
       "hourly_market-data_liquidations_htx_global_btc_usd_short_liquidations               0.000000\n",
       "hourly_market-data_liquidations_htx_global_btc_usd_long_liquidations_usd            0.000000\n",
       "hourly_market-data_liquidations_htx_global_btc_usd_short_liquidations_usd           0.000000\n",
       "hourly_network-data_utxo-count_utxo_count                                           0.000000\n",
       "hourly_market-data_liquidations_all_exchange_all_symbol_long_liquidations           0.000000\n",
       "hourly_market-data_liquidations_all_exchange_all_symbol_short_liquidations          0.000000\n",
       "hourly_market-data_liquidations_all_exchange_all_symbol_long_liquidations_usd       0.000000\n",
       "hourly_market-data_taker-buy-sell-stats_all_exchange_taker_buy_sell_ratio           0.000000\n",
       "hourly_market-data_open-interest_all_exchange_all_symbol_open_interest              0.000000\n",
       "hourly_network-data_block-count_block_count                                         0.000000\n",
       "hourly_market-data_funding-rates_all_exchange_funding_rates                         0.000000\n",
       "hourly_network-data_hashrate_hashrate                                               0.000000\n",
       "hourly_market-data_open-interest_binance_all_symbol_open_interest                   0.000000\n",
       "hourly_market-data_open-interest_htx_global_btc_usd_open_interest                   0.000000\n",
       "hourly_network-data_fees-transaction_fees_transaction_median                        0.000000\n",
       "hourly_network-data_fees-transaction_fees_transaction_median_usd                    0.000000\n",
       "hourly_market-data_liquidations_binance_all_symbol_long_liquidations                0.000000\n",
       "hourly_market-data_liquidations_binance_all_symbol_short_liquidations               0.000000\n",
       "hourly_network-data_blockreward_blockreward_usd                                     0.000000\n",
       "target                                                                              0.000000\n",
       "ID                                                                                  0.000000\n",
       "dtype: float64"
      ]
     },
     "execution_count": 100,
     "metadata": {},
     "output_type": "execute_result"
    }
   ],
   "source": [
    "eda_df = df.loc[df[\"_type\"] == \"train\"]\n",
    "# 각 열에서 누락된 값의 수를 계산\n",
    "missing_values = eda_df.isnull().sum()\n",
    "\n",
    "# 누락된 값의 백분율 계산\n",
    "missing_percentage = (missing_values / len(eda_df)) * 100\n",
    "\n",
    "# 누락된 값 비율을 기준으로 열 정렬\n",
    "sorted_missing_percentage = missing_percentage.sort_values(ascending=False)\n",
    "sorted_missing_percentage"
   ]
  },
  {
   "cell_type": "code",
   "execution_count": 101,
   "metadata": {},
   "outputs": [
    {
     "data": {
      "text/html": [
       "<div>\n",
       "<style scoped>\n",
       "    .dataframe tbody tr th:only-of-type {\n",
       "        vertical-align: middle;\n",
       "    }\n",
       "\n",
       "    .dataframe tbody tr th {\n",
       "        vertical-align: top;\n",
       "    }\n",
       "\n",
       "    .dataframe thead th {\n",
       "        text-align: right;\n",
       "    }\n",
       "</style>\n",
       "<table border=\"1\" class=\"dataframe\">\n",
       "  <thead>\n",
       "    <tr style=\"text-align: right;\">\n",
       "      <th></th>\n",
       "      <th>target</th>\n",
       "      <th>blockreward_usd</th>\n",
       "      <th>hashrate</th>\n",
       "      <th>difficulty</th>\n",
       "      <th>supply_total</th>\n",
       "    </tr>\n",
       "  </thead>\n",
       "  <tbody>\n",
       "    <tr>\n",
       "      <th>count</th>\n",
       "      <td>8760.000000</td>\n",
       "      <td>8.760000e+03</td>\n",
       "      <td>8.760000e+03</td>\n",
       "      <td>8.741000e+03</td>\n",
       "      <td>8.760000e+03</td>\n",
       "    </tr>\n",
       "    <tr>\n",
       "      <th>mean</th>\n",
       "      <td>1.518379</td>\n",
       "      <td>1.189293e+06</td>\n",
       "      <td>3.782604e+11</td>\n",
       "      <td>5.194337e+13</td>\n",
       "      <td>1.941791e+07</td>\n",
       "    </tr>\n",
       "    <tr>\n",
       "      <th>std</th>\n",
       "      <td>0.776190</td>\n",
       "      <td>6.015863e+05</td>\n",
       "      <td>1.693080e+11</td>\n",
       "      <td>9.201383e+12</td>\n",
       "      <td>9.689445e+04</td>\n",
       "    </tr>\n",
       "    <tr>\n",
       "      <th>min</th>\n",
       "      <td>0.000000</td>\n",
       "      <td>0.000000e+00</td>\n",
       "      <td>0.000000e+00</td>\n",
       "      <td>3.409357e+13</td>\n",
       "      <td>1.924871e+07</td>\n",
       "    </tr>\n",
       "    <tr>\n",
       "      <th>25%</th>\n",
       "      <td>1.000000</td>\n",
       "      <td>7.671066e+05</td>\n",
       "      <td>2.568262e+11</td>\n",
       "      <td>4.684340e+13</td>\n",
       "      <td>1.933482e+07</td>\n",
       "    </tr>\n",
       "    <tr>\n",
       "      <th>50%</th>\n",
       "      <td>2.000000</td>\n",
       "      <td>1.099983e+06</td>\n",
       "      <td>3.625397e+11</td>\n",
       "      <td>5.232831e+13</td>\n",
       "      <td>1.941775e+07</td>\n",
       "    </tr>\n",
       "    <tr>\n",
       "      <th>75%</th>\n",
       "      <td>2.000000</td>\n",
       "      <td>1.489747e+06</td>\n",
       "      <td>4.787106e+11</td>\n",
       "      <td>5.711987e+13</td>\n",
       "      <td>1.950111e+07</td>\n",
       "    </tr>\n",
       "    <tr>\n",
       "      <th>max</th>\n",
       "      <td>3.000000</td>\n",
       "      <td>6.006830e+06</td>\n",
       "      <td>1.192349e+12</td>\n",
       "      <td>7.200615e+13</td>\n",
       "      <td>1.958613e+07</td>\n",
       "    </tr>\n",
       "  </tbody>\n",
       "</table>\n",
       "</div>"
      ],
      "text/plain": [
       "            target  blockreward_usd      hashrate    difficulty  supply_total\n",
       "count  8760.000000     8.760000e+03  8.760000e+03  8.741000e+03  8.760000e+03\n",
       "mean      1.518379     1.189293e+06  3.782604e+11  5.194337e+13  1.941791e+07\n",
       "std       0.776190     6.015863e+05  1.693080e+11  9.201383e+12  9.689445e+04\n",
       "min       0.000000     0.000000e+00  0.000000e+00  3.409357e+13  1.924871e+07\n",
       "25%       1.000000     7.671066e+05  2.568262e+11  4.684340e+13  1.933482e+07\n",
       "50%       2.000000     1.099983e+06  3.625397e+11  5.232831e+13  1.941775e+07\n",
       "75%       2.000000     1.489747e+06  4.787106e+11  5.711987e+13  1.950111e+07\n",
       "max       3.000000     6.006830e+06  1.192349e+12  7.200615e+13  1.958613e+07"
      ]
     },
     "execution_count": 101,
     "metadata": {},
     "output_type": "execute_result"
    }
   ],
   "source": [
    "# column 추출\n",
    "# 1. ID, target, blockreward_usd, hashrate(difficulty), supply_new\n",
    "# hashrate = 직접적이고 즉각적인 영향보다는 장기적인 영향\n",
    "#  채굴 보상(blockreward_usd)이 낮아지면 공급이 낮아지고 가격이 올라감\n",
    "cols_dict: Dict[str, str] = {\n",
    "    \"ID\": \"ID\",\n",
    "    \"target\": \"target\", \n",
    "    \"hourly_network-data_blockreward_blockreward_usd\": \"blockreward_usd\",\n",
    "    \"hourly_network-data_hashrate_hashrate\": \"hashrate\",\n",
    "    \"hourly_network-data_difficulty_difficulty\": \"difficulty\",\n",
    "    \"hourly_network-data_supply_supply_total\": \"supply_total\",\n",
    "}\n",
    "\n",
    "# 추출후 단순화를 위해 rename\n",
    "eda_df = eda_df[cols_dict.keys()].rename(cols_dict, axis=1)\n",
    "eda_df.describe()"
   ]
  },
  {
   "cell_type": "code",
   "execution_count": 102,
   "metadata": {},
   "outputs": [
    {
     "name": "stdout",
     "output_type": "stream",
     "text": [
      "         count          mean            std  min            25%           50%  \\\n",
      "target                                                                          \n",
      "0.0      740.0  1.216460e+06  632445.905219  0.0  782631.978151  1.116853e+06   \n",
      "1.0     3544.0  1.186873e+06  609060.676420  0.0  754810.970293  1.099768e+06   \n",
      "2.0     3671.0  1.182565e+06  585057.691993  0.0  767941.964382  1.092368e+06   \n",
      "3.0      805.0  1.205656e+06  613781.869777  0.0  783401.206043  1.116078e+06   \n",
      "\n",
      "                 75%           max  \n",
      "target                              \n",
      "0.0     1.549242e+06  4.403477e+06  \n",
      "1.0     1.482680e+06  6.006830e+06  \n",
      "2.0     1.487655e+06  4.716728e+06  \n",
      "3.0     1.523408e+06  4.167049e+06  \n",
      "         count          mean           std  min           25%           50%  \\\n",
      "target                                                                        \n",
      "0.0      740.0  3.725723e+11  1.731160e+11  0.0  2.498260e+11  3.587773e+11   \n",
      "1.0     3544.0  3.791698e+11  1.715425e+11  0.0  2.568262e+11  3.625397e+11   \n",
      "2.0     3671.0  3.794171e+11  1.653303e+11  0.0  2.584145e+11  3.640622e+11   \n",
      "3.0      805.0  3.742107e+11  1.738886e+11  0.0  2.498260e+11  3.625397e+11   \n",
      "\n",
      "                 75%           max  \n",
      "target                              \n",
      "0.0     4.689550e+11  9.635889e+11  \n",
      "1.0     4.787106e+11  1.053998e+12  \n",
      "2.0     4.802525e+11  1.192349e+12  \n",
      "3.0     4.833862e+11  1.116787e+12  \n"
     ]
    }
   ],
   "source": [
    "agg_df1 = eda_df.groupby('target')['blockreward_usd'].describe()\n",
    "agg_df2 = eda_df.groupby('target')['hashrate'].describe()\n",
    "agg_df3 = eda_df.groupby('target')['difficulty'].describe()\n",
    "agg_df4 = eda_df.groupby('target')['supply_total'].describe()\n",
    "\n",
    "print(agg_df1)\n",
    "print(agg_df2)"
   ]
  },
  {
   "cell_type": "code",
   "execution_count": 103,
   "metadata": {},
   "outputs": [
    {
     "name": "stdout",
     "output_type": "stream",
     "text": [
      "         count          mean           std           min           25%  \\\n",
      "target                                                                   \n",
      "0.0      738.0  5.183518e+13  8.658137e+12  3.409357e+13  4.684340e+13   \n",
      "1.0     3535.0  5.196251e+13  9.194614e+12  3.409357e+13  4.684340e+13   \n",
      "2.0     3665.0  5.202969e+13  9.357504e+12  3.409357e+13  4.684340e+13   \n",
      "3.0      803.0  5.156461e+13  9.001075e+12  3.409357e+13  4.355172e+13   \n",
      "\n",
      "                 50%           75%           max  \n",
      "target                                            \n",
      "0.0     5.123434e+13  5.562144e+13  7.200615e+13  \n",
      "1.0     5.232831e+13  5.711987e+13  7.200615e+13  \n",
      "2.0     5.232831e+13  5.732151e+13  7.200615e+13  \n",
      "3.0     5.064621e+13  5.562144e+13  7.200615e+13  \n",
      "         count          mean           std           min           25%  \\\n",
      "target                                                                   \n",
      "0.0      740.0  1.941428e+07  90664.904107  1.925226e+07  1.933292e+07   \n",
      "1.0     3544.0  1.941838e+07  97167.911566  1.924874e+07  1.933693e+07   \n",
      "2.0     3671.0  1.941971e+07  98442.554015  1.924871e+07  1.933509e+07   \n",
      "3.0      805.0  1.941101e+07  93849.145211  1.925166e+07  1.932613e+07   \n",
      "\n",
      "                 50%           75%           max  \n",
      "target                                            \n",
      "0.0     1.941546e+07  1.948244e+07  1.958609e+07  \n",
      "1.0     1.941989e+07  1.950140e+07  1.958607e+07  \n",
      "2.0     1.942443e+07  1.950381e+07  1.958613e+07  \n",
      "3.0     1.941246e+07  1.948927e+07  1.958558e+07  \n"
     ]
    }
   ],
   "source": [
    "print(agg_df3)\n",
    "print(agg_df4)"
   ]
  },
  {
   "cell_type": "code",
   "execution_count": 104,
   "metadata": {},
   "outputs": [
    {
     "data": {
      "text/html": [
       "<div>\n",
       "<style scoped>\n",
       "    .dataframe tbody tr th:only-of-type {\n",
       "        vertical-align: middle;\n",
       "    }\n",
       "\n",
       "    .dataframe tbody tr th {\n",
       "        vertical-align: top;\n",
       "    }\n",
       "\n",
       "    .dataframe thead th {\n",
       "        text-align: right;\n",
       "    }\n",
       "</style>\n",
       "<table border=\"1\" class=\"dataframe\">\n",
       "  <thead>\n",
       "    <tr style=\"text-align: right;\">\n",
       "      <th></th>\n",
       "      <th>target</th>\n",
       "      <th>blockreward_usd</th>\n",
       "      <th>hashrate</th>\n",
       "      <th>difficulty</th>\n",
       "      <th>supply_total</th>\n",
       "    </tr>\n",
       "  </thead>\n",
       "  <tbody>\n",
       "    <tr>\n",
       "      <th>0</th>\n",
       "      <td>0.0</td>\n",
       "      <td>3.999878e+11</td>\n",
       "      <td>2.996916e+22</td>\n",
       "      <td>7.496333e+25</td>\n",
       "      <td>8.220125e+09</td>\n",
       "    </tr>\n",
       "    <tr>\n",
       "      <th>1</th>\n",
       "      <td>1.0</td>\n",
       "      <td>3.709549e+11</td>\n",
       "      <td>2.942683e+22</td>\n",
       "      <td>8.454093e+25</td>\n",
       "      <td>9.441603e+09</td>\n",
       "    </tr>\n",
       "    <tr>\n",
       "      <th>2</th>\n",
       "      <td>2.0</td>\n",
       "      <td>3.422925e+11</td>\n",
       "      <td>2.733410e+22</td>\n",
       "      <td>8.756289e+25</td>\n",
       "      <td>9.690936e+09</td>\n",
       "    </tr>\n",
       "    <tr>\n",
       "      <th>3</th>\n",
       "      <td>3.0</td>\n",
       "      <td>3.767282e+11</td>\n",
       "      <td>3.023723e+22</td>\n",
       "      <td>8.101935e+25</td>\n",
       "      <td>8.807662e+09</td>\n",
       "    </tr>\n",
       "  </tbody>\n",
       "</table>\n",
       "</div>"
      ],
      "text/plain": [
       "   target  blockreward_usd      hashrate    difficulty  supply_total\n",
       "0     0.0     3.999878e+11  2.996916e+22  7.496333e+25  8.220125e+09\n",
       "1     1.0     3.709549e+11  2.942683e+22  8.454093e+25  9.441603e+09\n",
       "2     2.0     3.422925e+11  2.733410e+22  8.756289e+25  9.690936e+09\n",
       "3     3.0     3.767282e+11  3.023723e+22  8.101935e+25  8.807662e+09"
      ]
     },
     "execution_count": 104,
     "metadata": {},
     "output_type": "execute_result"
    }
   ],
   "source": [
    "# 타겟 값 별로 변수의 평균 파익\n",
    "bar_df = eda_df.groupby(\"target\").agg({\n",
    "    \"blockreward_usd\" : \"var\",\n",
    "    \"hashrate\" : \"var\",\n",
    "    \"difficulty\" : \"var\",\n",
    "    \"supply_total\" : \"var\",\n",
    "}).reset_index()\n",
    "bar_df\n",
    "\n",
    "# 읭 차이가 없네 .."
   ]
  },
  {
   "cell_type": "code",
   "execution_count": 105,
   "metadata": {},
   "outputs": [
    {
     "data": {
      "application/vnd.plotly.v1+json": {
       "config": {
        "plotlyServerURL": "https://plot.ly"
       },
       "data": [
        {
         "type": "bar",
         "x": [
          2,
          1,
          3,
          0
         ],
         "xaxis": "x",
         "y": [
          0.41906392694063926,
          0.4045662100456621,
          0.09189497716894977,
          0.08447488584474885
         ],
         "yaxis": "y"
        },
        {
         "type": "bar",
         "x": [
          0,
          1,
          2,
          3
         ],
         "xaxis": "x",
         "y": [
          399987823028.7907,
          370954907560.90405,
          342292502960.5146,
          376728183666.7136
         ],
         "yaxis": "y"
        },
        {
         "type": "bar",
         "x": [
          0,
          1,
          2,
          3
         ],
         "xaxis": "x2",
         "y": [
          2.996915778002048e+22,
          2.942682918522008e+22,
          2.7334104857550543e+22,
          3.0237231005835364e+22
         ],
         "yaxis": "y2"
        },
        {
         "type": "bar",
         "x": [
          0,
          1,
          2,
          3
         ],
         "xaxis": "x3",
         "y": [
          7.496332974649951e+25,
          8.454092768180621e+25,
          8.756288646370669e+25,
          8.101934537646825e+25
         ],
         "yaxis": "y3"
        },
        {
         "type": "bar",
         "x": [
          0,
          1,
          2,
          3
         ],
         "xaxis": "x4",
         "y": [
          8220124836.675455,
          9441603038.062616,
          9690936441.09175,
          8807662056.792915
         ],
         "yaxis": "y4"
        }
       ],
       "layout": {
        "annotations": [
         {
          "font": {
           "size": 16
          },
          "showarrow": false,
          "text": "blockreward_usd",
          "x": 0.225,
          "xanchor": "center",
          "xref": "paper",
          "y": 1,
          "yanchor": "bottom",
          "yref": "paper"
         },
         {
          "font": {
           "size": 16
          },
          "showarrow": false,
          "text": "hashrate",
          "x": 0.775,
          "xanchor": "center",
          "xref": "paper",
          "y": 1,
          "yanchor": "bottom",
          "yref": "paper"
         },
         {
          "font": {
           "size": 16
          },
          "showarrow": false,
          "text": "difficulty",
          "x": 0.225,
          "xanchor": "center",
          "xref": "paper",
          "y": 0.375,
          "yanchor": "bottom",
          "yref": "paper"
         },
         {
          "font": {
           "size": 16
          },
          "showarrow": false,
          "text": "supply_total",
          "x": 0.775,
          "xanchor": "center",
          "xref": "paper",
          "y": 0.375,
          "yanchor": "bottom",
          "yref": "paper"
         }
        ],
        "showlegend": false,
        "template": {
         "data": {
          "bar": [
           {
            "error_x": {
             "color": "#2a3f5f"
            },
            "error_y": {
             "color": "#2a3f5f"
            },
            "marker": {
             "line": {
              "color": "#E5ECF6",
              "width": 0.5
             },
             "pattern": {
              "fillmode": "overlay",
              "size": 10,
              "solidity": 0.2
             }
            },
            "type": "bar"
           }
          ],
          "barpolar": [
           {
            "marker": {
             "line": {
              "color": "#E5ECF6",
              "width": 0.5
             },
             "pattern": {
              "fillmode": "overlay",
              "size": 10,
              "solidity": 0.2
             }
            },
            "type": "barpolar"
           }
          ],
          "carpet": [
           {
            "aaxis": {
             "endlinecolor": "#2a3f5f",
             "gridcolor": "white",
             "linecolor": "white",
             "minorgridcolor": "white",
             "startlinecolor": "#2a3f5f"
            },
            "baxis": {
             "endlinecolor": "#2a3f5f",
             "gridcolor": "white",
             "linecolor": "white",
             "minorgridcolor": "white",
             "startlinecolor": "#2a3f5f"
            },
            "type": "carpet"
           }
          ],
          "choropleth": [
           {
            "colorbar": {
             "outlinewidth": 0,
             "ticks": ""
            },
            "type": "choropleth"
           }
          ],
          "contour": [
           {
            "colorbar": {
             "outlinewidth": 0,
             "ticks": ""
            },
            "colorscale": [
             [
              0,
              "#0d0887"
             ],
             [
              0.1111111111111111,
              "#46039f"
             ],
             [
              0.2222222222222222,
              "#7201a8"
             ],
             [
              0.3333333333333333,
              "#9c179e"
             ],
             [
              0.4444444444444444,
              "#bd3786"
             ],
             [
              0.5555555555555556,
              "#d8576b"
             ],
             [
              0.6666666666666666,
              "#ed7953"
             ],
             [
              0.7777777777777778,
              "#fb9f3a"
             ],
             [
              0.8888888888888888,
              "#fdca26"
             ],
             [
              1,
              "#f0f921"
             ]
            ],
            "type": "contour"
           }
          ],
          "contourcarpet": [
           {
            "colorbar": {
             "outlinewidth": 0,
             "ticks": ""
            },
            "type": "contourcarpet"
           }
          ],
          "heatmap": [
           {
            "colorbar": {
             "outlinewidth": 0,
             "ticks": ""
            },
            "colorscale": [
             [
              0,
              "#0d0887"
             ],
             [
              0.1111111111111111,
              "#46039f"
             ],
             [
              0.2222222222222222,
              "#7201a8"
             ],
             [
              0.3333333333333333,
              "#9c179e"
             ],
             [
              0.4444444444444444,
              "#bd3786"
             ],
             [
              0.5555555555555556,
              "#d8576b"
             ],
             [
              0.6666666666666666,
              "#ed7953"
             ],
             [
              0.7777777777777778,
              "#fb9f3a"
             ],
             [
              0.8888888888888888,
              "#fdca26"
             ],
             [
              1,
              "#f0f921"
             ]
            ],
            "type": "heatmap"
           }
          ],
          "heatmapgl": [
           {
            "colorbar": {
             "outlinewidth": 0,
             "ticks": ""
            },
            "colorscale": [
             [
              0,
              "#0d0887"
             ],
             [
              0.1111111111111111,
              "#46039f"
             ],
             [
              0.2222222222222222,
              "#7201a8"
             ],
             [
              0.3333333333333333,
              "#9c179e"
             ],
             [
              0.4444444444444444,
              "#bd3786"
             ],
             [
              0.5555555555555556,
              "#d8576b"
             ],
             [
              0.6666666666666666,
              "#ed7953"
             ],
             [
              0.7777777777777778,
              "#fb9f3a"
             ],
             [
              0.8888888888888888,
              "#fdca26"
             ],
             [
              1,
              "#f0f921"
             ]
            ],
            "type": "heatmapgl"
           }
          ],
          "histogram": [
           {
            "marker": {
             "pattern": {
              "fillmode": "overlay",
              "size": 10,
              "solidity": 0.2
             }
            },
            "type": "histogram"
           }
          ],
          "histogram2d": [
           {
            "colorbar": {
             "outlinewidth": 0,
             "ticks": ""
            },
            "colorscale": [
             [
              0,
              "#0d0887"
             ],
             [
              0.1111111111111111,
              "#46039f"
             ],
             [
              0.2222222222222222,
              "#7201a8"
             ],
             [
              0.3333333333333333,
              "#9c179e"
             ],
             [
              0.4444444444444444,
              "#bd3786"
             ],
             [
              0.5555555555555556,
              "#d8576b"
             ],
             [
              0.6666666666666666,
              "#ed7953"
             ],
             [
              0.7777777777777778,
              "#fb9f3a"
             ],
             [
              0.8888888888888888,
              "#fdca26"
             ],
             [
              1,
              "#f0f921"
             ]
            ],
            "type": "histogram2d"
           }
          ],
          "histogram2dcontour": [
           {
            "colorbar": {
             "outlinewidth": 0,
             "ticks": ""
            },
            "colorscale": [
             [
              0,
              "#0d0887"
             ],
             [
              0.1111111111111111,
              "#46039f"
             ],
             [
              0.2222222222222222,
              "#7201a8"
             ],
             [
              0.3333333333333333,
              "#9c179e"
             ],
             [
              0.4444444444444444,
              "#bd3786"
             ],
             [
              0.5555555555555556,
              "#d8576b"
             ],
             [
              0.6666666666666666,
              "#ed7953"
             ],
             [
              0.7777777777777778,
              "#fb9f3a"
             ],
             [
              0.8888888888888888,
              "#fdca26"
             ],
             [
              1,
              "#f0f921"
             ]
            ],
            "type": "histogram2dcontour"
           }
          ],
          "mesh3d": [
           {
            "colorbar": {
             "outlinewidth": 0,
             "ticks": ""
            },
            "type": "mesh3d"
           }
          ],
          "parcoords": [
           {
            "line": {
             "colorbar": {
              "outlinewidth": 0,
              "ticks": ""
             }
            },
            "type": "parcoords"
           }
          ],
          "pie": [
           {
            "automargin": true,
            "type": "pie"
           }
          ],
          "scatter": [
           {
            "fillpattern": {
             "fillmode": "overlay",
             "size": 10,
             "solidity": 0.2
            },
            "type": "scatter"
           }
          ],
          "scatter3d": [
           {
            "line": {
             "colorbar": {
              "outlinewidth": 0,
              "ticks": ""
             }
            },
            "marker": {
             "colorbar": {
              "outlinewidth": 0,
              "ticks": ""
             }
            },
            "type": "scatter3d"
           }
          ],
          "scattercarpet": [
           {
            "marker": {
             "colorbar": {
              "outlinewidth": 0,
              "ticks": ""
             }
            },
            "type": "scattercarpet"
           }
          ],
          "scattergeo": [
           {
            "marker": {
             "colorbar": {
              "outlinewidth": 0,
              "ticks": ""
             }
            },
            "type": "scattergeo"
           }
          ],
          "scattergl": [
           {
            "marker": {
             "colorbar": {
              "outlinewidth": 0,
              "ticks": ""
             }
            },
            "type": "scattergl"
           }
          ],
          "scattermapbox": [
           {
            "marker": {
             "colorbar": {
              "outlinewidth": 0,
              "ticks": ""
             }
            },
            "type": "scattermapbox"
           }
          ],
          "scatterpolar": [
           {
            "marker": {
             "colorbar": {
              "outlinewidth": 0,
              "ticks": ""
             }
            },
            "type": "scatterpolar"
           }
          ],
          "scatterpolargl": [
           {
            "marker": {
             "colorbar": {
              "outlinewidth": 0,
              "ticks": ""
             }
            },
            "type": "scatterpolargl"
           }
          ],
          "scatterternary": [
           {
            "marker": {
             "colorbar": {
              "outlinewidth": 0,
              "ticks": ""
             }
            },
            "type": "scatterternary"
           }
          ],
          "surface": [
           {
            "colorbar": {
             "outlinewidth": 0,
             "ticks": ""
            },
            "colorscale": [
             [
              0,
              "#0d0887"
             ],
             [
              0.1111111111111111,
              "#46039f"
             ],
             [
              0.2222222222222222,
              "#7201a8"
             ],
             [
              0.3333333333333333,
              "#9c179e"
             ],
             [
              0.4444444444444444,
              "#bd3786"
             ],
             [
              0.5555555555555556,
              "#d8576b"
             ],
             [
              0.6666666666666666,
              "#ed7953"
             ],
             [
              0.7777777777777778,
              "#fb9f3a"
             ],
             [
              0.8888888888888888,
              "#fdca26"
             ],
             [
              1,
              "#f0f921"
             ]
            ],
            "type": "surface"
           }
          ],
          "table": [
           {
            "cells": {
             "fill": {
              "color": "#EBF0F8"
             },
             "line": {
              "color": "white"
             }
            },
            "header": {
             "fill": {
              "color": "#C8D4E3"
             },
             "line": {
              "color": "white"
             }
            },
            "type": "table"
           }
          ]
         },
         "layout": {
          "annotationdefaults": {
           "arrowcolor": "#2a3f5f",
           "arrowhead": 0,
           "arrowwidth": 1
          },
          "autotypenumbers": "strict",
          "coloraxis": {
           "colorbar": {
            "outlinewidth": 0,
            "ticks": ""
           }
          },
          "colorscale": {
           "diverging": [
            [
             0,
             "#8e0152"
            ],
            [
             0.1,
             "#c51b7d"
            ],
            [
             0.2,
             "#de77ae"
            ],
            [
             0.3,
             "#f1b6da"
            ],
            [
             0.4,
             "#fde0ef"
            ],
            [
             0.5,
             "#f7f7f7"
            ],
            [
             0.6,
             "#e6f5d0"
            ],
            [
             0.7,
             "#b8e186"
            ],
            [
             0.8,
             "#7fbc41"
            ],
            [
             0.9,
             "#4d9221"
            ],
            [
             1,
             "#276419"
            ]
           ],
           "sequential": [
            [
             0,
             "#0d0887"
            ],
            [
             0.1111111111111111,
             "#46039f"
            ],
            [
             0.2222222222222222,
             "#7201a8"
            ],
            [
             0.3333333333333333,
             "#9c179e"
            ],
            [
             0.4444444444444444,
             "#bd3786"
            ],
            [
             0.5555555555555556,
             "#d8576b"
            ],
            [
             0.6666666666666666,
             "#ed7953"
            ],
            [
             0.7777777777777778,
             "#fb9f3a"
            ],
            [
             0.8888888888888888,
             "#fdca26"
            ],
            [
             1,
             "#f0f921"
            ]
           ],
           "sequentialminus": [
            [
             0,
             "#0d0887"
            ],
            [
             0.1111111111111111,
             "#46039f"
            ],
            [
             0.2222222222222222,
             "#7201a8"
            ],
            [
             0.3333333333333333,
             "#9c179e"
            ],
            [
             0.4444444444444444,
             "#bd3786"
            ],
            [
             0.5555555555555556,
             "#d8576b"
            ],
            [
             0.6666666666666666,
             "#ed7953"
            ],
            [
             0.7777777777777778,
             "#fb9f3a"
            ],
            [
             0.8888888888888888,
             "#fdca26"
            ],
            [
             1,
             "#f0f921"
            ]
           ]
          },
          "colorway": [
           "#636efa",
           "#EF553B",
           "#00cc96",
           "#ab63fa",
           "#FFA15A",
           "#19d3f3",
           "#FF6692",
           "#B6E880",
           "#FF97FF",
           "#FECB52"
          ],
          "font": {
           "color": "#2a3f5f"
          },
          "geo": {
           "bgcolor": "white",
           "lakecolor": "white",
           "landcolor": "#E5ECF6",
           "showlakes": true,
           "showland": true,
           "subunitcolor": "white"
          },
          "hoverlabel": {
           "align": "left"
          },
          "hovermode": "closest",
          "mapbox": {
           "style": "light"
          },
          "paper_bgcolor": "white",
          "plot_bgcolor": "#E5ECF6",
          "polar": {
           "angularaxis": {
            "gridcolor": "white",
            "linecolor": "white",
            "ticks": ""
           },
           "bgcolor": "#E5ECF6",
           "radialaxis": {
            "gridcolor": "white",
            "linecolor": "white",
            "ticks": ""
           }
          },
          "scene": {
           "xaxis": {
            "backgroundcolor": "#E5ECF6",
            "gridcolor": "white",
            "gridwidth": 2,
            "linecolor": "white",
            "showbackground": true,
            "ticks": "",
            "zerolinecolor": "white"
           },
           "yaxis": {
            "backgroundcolor": "#E5ECF6",
            "gridcolor": "white",
            "gridwidth": 2,
            "linecolor": "white",
            "showbackground": true,
            "ticks": "",
            "zerolinecolor": "white"
           },
           "zaxis": {
            "backgroundcolor": "#E5ECF6",
            "gridcolor": "white",
            "gridwidth": 2,
            "linecolor": "white",
            "showbackground": true,
            "ticks": "",
            "zerolinecolor": "white"
           }
          },
          "shapedefaults": {
           "line": {
            "color": "#2a3f5f"
           }
          },
          "ternary": {
           "aaxis": {
            "gridcolor": "white",
            "linecolor": "white",
            "ticks": ""
           },
           "baxis": {
            "gridcolor": "white",
            "linecolor": "white",
            "ticks": ""
           },
           "bgcolor": "#E5ECF6",
           "caxis": {
            "gridcolor": "white",
            "linecolor": "white",
            "ticks": ""
           }
          },
          "title": {
           "x": 0.05
          },
          "xaxis": {
           "automargin": true,
           "gridcolor": "white",
           "linecolor": "white",
           "ticks": "",
           "title": {
            "standoff": 15
           },
           "zerolinecolor": "white",
           "zerolinewidth": 2
          },
          "yaxis": {
           "automargin": true,
           "gridcolor": "white",
           "linecolor": "white",
           "ticks": "",
           "title": {
            "standoff": 15
           },
           "zerolinecolor": "white",
           "zerolinewidth": 2
          }
         }
        },
        "title": {
         "text": "Target statistics"
        },
        "xaxis": {
         "anchor": "y",
         "domain": [
          0,
          0.45
         ],
         "matches": "x3",
         "showticklabels": false
        },
        "xaxis2": {
         "anchor": "y2",
         "domain": [
          0.55,
          1
         ],
         "matches": "x4",
         "showticklabels": false
        },
        "xaxis3": {
         "anchor": "y3",
         "domain": [
          0,
          0.45
         ]
        },
        "xaxis4": {
         "anchor": "y4",
         "domain": [
          0.55,
          1
         ]
        },
        "yaxis": {
         "anchor": "x",
         "domain": [
          0.625,
          1
         ]
        },
        "yaxis2": {
         "anchor": "x2",
         "domain": [
          0.625,
          1
         ]
        },
        "yaxis3": {
         "anchor": "x3",
         "domain": [
          0,
          0.375
         ]
        },
        "yaxis4": {
         "anchor": "x4",
         "domain": [
          0,
          0.375
         ]
        }
       }
      },
      "text/html": [
       "<div>                            <div id=\"94f15c7c-056b-4fa6-b5f8-731609799aa1\" class=\"plotly-graph-div\" style=\"height:525px; width:100%;\"></div>            <script type=\"text/javascript\">                require([\"plotly\"], function(Plotly) {                    window.PLOTLYENV=window.PLOTLYENV || {};                                    if (document.getElementById(\"94f15c7c-056b-4fa6-b5f8-731609799aa1\")) {                    Plotly.newPlot(                        \"94f15c7c-056b-4fa6-b5f8-731609799aa1\",                        [{\"x\":[2.0,1.0,3.0,0.0],\"y\":[0.41906392694063926,0.4045662100456621,0.09189497716894977,0.08447488584474885],\"type\":\"bar\",\"xaxis\":\"x\",\"yaxis\":\"y\"},{\"x\":[0.0,1.0,2.0,3.0],\"y\":[399987823028.7907,370954907560.90405,342292502960.5146,376728183666.7136],\"type\":\"bar\",\"xaxis\":\"x\",\"yaxis\":\"y\"},{\"x\":[0.0,1.0,2.0,3.0],\"y\":[2.996915778002048e+22,2.942682918522008e+22,2.7334104857550543e+22,3.0237231005835364e+22],\"type\":\"bar\",\"xaxis\":\"x2\",\"yaxis\":\"y2\"},{\"x\":[0.0,1.0,2.0,3.0],\"y\":[7.496332974649951e+25,8.454092768180621e+25,8.756288646370669e+25,8.101934537646825e+25],\"type\":\"bar\",\"xaxis\":\"x3\",\"yaxis\":\"y3\"},{\"x\":[0.0,1.0,2.0,3.0],\"y\":[8220124836.675455,9441603038.062616,9690936441.09175,8807662056.792915],\"type\":\"bar\",\"xaxis\":\"x4\",\"yaxis\":\"y4\"}],                        {\"template\":{\"data\":{\"histogram2dcontour\":[{\"type\":\"histogram2dcontour\",\"colorbar\":{\"outlinewidth\":0,\"ticks\":\"\"},\"colorscale\":[[0.0,\"#0d0887\"],[0.1111111111111111,\"#46039f\"],[0.2222222222222222,\"#7201a8\"],[0.3333333333333333,\"#9c179e\"],[0.4444444444444444,\"#bd3786\"],[0.5555555555555556,\"#d8576b\"],[0.6666666666666666,\"#ed7953\"],[0.7777777777777778,\"#fb9f3a\"],[0.8888888888888888,\"#fdca26\"],[1.0,\"#f0f921\"]]}],\"choropleth\":[{\"type\":\"choropleth\",\"colorbar\":{\"outlinewidth\":0,\"ticks\":\"\"}}],\"histogram2d\":[{\"type\":\"histogram2d\",\"colorbar\":{\"outlinewidth\":0,\"ticks\":\"\"},\"colorscale\":[[0.0,\"#0d0887\"],[0.1111111111111111,\"#46039f\"],[0.2222222222222222,\"#7201a8\"],[0.3333333333333333,\"#9c179e\"],[0.4444444444444444,\"#bd3786\"],[0.5555555555555556,\"#d8576b\"],[0.6666666666666666,\"#ed7953\"],[0.7777777777777778,\"#fb9f3a\"],[0.8888888888888888,\"#fdca26\"],[1.0,\"#f0f921\"]]}],\"heatmap\":[{\"type\":\"heatmap\",\"colorbar\":{\"outlinewidth\":0,\"ticks\":\"\"},\"colorscale\":[[0.0,\"#0d0887\"],[0.1111111111111111,\"#46039f\"],[0.2222222222222222,\"#7201a8\"],[0.3333333333333333,\"#9c179e\"],[0.4444444444444444,\"#bd3786\"],[0.5555555555555556,\"#d8576b\"],[0.6666666666666666,\"#ed7953\"],[0.7777777777777778,\"#fb9f3a\"],[0.8888888888888888,\"#fdca26\"],[1.0,\"#f0f921\"]]}],\"heatmapgl\":[{\"type\":\"heatmapgl\",\"colorbar\":{\"outlinewidth\":0,\"ticks\":\"\"},\"colorscale\":[[0.0,\"#0d0887\"],[0.1111111111111111,\"#46039f\"],[0.2222222222222222,\"#7201a8\"],[0.3333333333333333,\"#9c179e\"],[0.4444444444444444,\"#bd3786\"],[0.5555555555555556,\"#d8576b\"],[0.6666666666666666,\"#ed7953\"],[0.7777777777777778,\"#fb9f3a\"],[0.8888888888888888,\"#fdca26\"],[1.0,\"#f0f921\"]]}],\"contourcarpet\":[{\"type\":\"contourcarpet\",\"colorbar\":{\"outlinewidth\":0,\"ticks\":\"\"}}],\"contour\":[{\"type\":\"contour\",\"colorbar\":{\"outlinewidth\":0,\"ticks\":\"\"},\"colorscale\":[[0.0,\"#0d0887\"],[0.1111111111111111,\"#46039f\"],[0.2222222222222222,\"#7201a8\"],[0.3333333333333333,\"#9c179e\"],[0.4444444444444444,\"#bd3786\"],[0.5555555555555556,\"#d8576b\"],[0.6666666666666666,\"#ed7953\"],[0.7777777777777778,\"#fb9f3a\"],[0.8888888888888888,\"#fdca26\"],[1.0,\"#f0f921\"]]}],\"surface\":[{\"type\":\"surface\",\"colorbar\":{\"outlinewidth\":0,\"ticks\":\"\"},\"colorscale\":[[0.0,\"#0d0887\"],[0.1111111111111111,\"#46039f\"],[0.2222222222222222,\"#7201a8\"],[0.3333333333333333,\"#9c179e\"],[0.4444444444444444,\"#bd3786\"],[0.5555555555555556,\"#d8576b\"],[0.6666666666666666,\"#ed7953\"],[0.7777777777777778,\"#fb9f3a\"],[0.8888888888888888,\"#fdca26\"],[1.0,\"#f0f921\"]]}],\"mesh3d\":[{\"type\":\"mesh3d\",\"colorbar\":{\"outlinewidth\":0,\"ticks\":\"\"}}],\"scatter\":[{\"fillpattern\":{\"fillmode\":\"overlay\",\"size\":10,\"solidity\":0.2},\"type\":\"scatter\"}],\"parcoords\":[{\"type\":\"parcoords\",\"line\":{\"colorbar\":{\"outlinewidth\":0,\"ticks\":\"\"}}}],\"scatterpolargl\":[{\"type\":\"scatterpolargl\",\"marker\":{\"colorbar\":{\"outlinewidth\":0,\"ticks\":\"\"}}}],\"bar\":[{\"error_x\":{\"color\":\"#2a3f5f\"},\"error_y\":{\"color\":\"#2a3f5f\"},\"marker\":{\"line\":{\"color\":\"#E5ECF6\",\"width\":0.5},\"pattern\":{\"fillmode\":\"overlay\",\"size\":10,\"solidity\":0.2}},\"type\":\"bar\"}],\"scattergeo\":[{\"type\":\"scattergeo\",\"marker\":{\"colorbar\":{\"outlinewidth\":0,\"ticks\":\"\"}}}],\"scatterpolar\":[{\"type\":\"scatterpolar\",\"marker\":{\"colorbar\":{\"outlinewidth\":0,\"ticks\":\"\"}}}],\"histogram\":[{\"marker\":{\"pattern\":{\"fillmode\":\"overlay\",\"size\":10,\"solidity\":0.2}},\"type\":\"histogram\"}],\"scattergl\":[{\"type\":\"scattergl\",\"marker\":{\"colorbar\":{\"outlinewidth\":0,\"ticks\":\"\"}}}],\"scatter3d\":[{\"type\":\"scatter3d\",\"line\":{\"colorbar\":{\"outlinewidth\":0,\"ticks\":\"\"}},\"marker\":{\"colorbar\":{\"outlinewidth\":0,\"ticks\":\"\"}}}],\"scattermapbox\":[{\"type\":\"scattermapbox\",\"marker\":{\"colorbar\":{\"outlinewidth\":0,\"ticks\":\"\"}}}],\"scatterternary\":[{\"type\":\"scatterternary\",\"marker\":{\"colorbar\":{\"outlinewidth\":0,\"ticks\":\"\"}}}],\"scattercarpet\":[{\"type\":\"scattercarpet\",\"marker\":{\"colorbar\":{\"outlinewidth\":0,\"ticks\":\"\"}}}],\"carpet\":[{\"aaxis\":{\"endlinecolor\":\"#2a3f5f\",\"gridcolor\":\"white\",\"linecolor\":\"white\",\"minorgridcolor\":\"white\",\"startlinecolor\":\"#2a3f5f\"},\"baxis\":{\"endlinecolor\":\"#2a3f5f\",\"gridcolor\":\"white\",\"linecolor\":\"white\",\"minorgridcolor\":\"white\",\"startlinecolor\":\"#2a3f5f\"},\"type\":\"carpet\"}],\"table\":[{\"cells\":{\"fill\":{\"color\":\"#EBF0F8\"},\"line\":{\"color\":\"white\"}},\"header\":{\"fill\":{\"color\":\"#C8D4E3\"},\"line\":{\"color\":\"white\"}},\"type\":\"table\"}],\"barpolar\":[{\"marker\":{\"line\":{\"color\":\"#E5ECF6\",\"width\":0.5},\"pattern\":{\"fillmode\":\"overlay\",\"size\":10,\"solidity\":0.2}},\"type\":\"barpolar\"}],\"pie\":[{\"automargin\":true,\"type\":\"pie\"}]},\"layout\":{\"autotypenumbers\":\"strict\",\"colorway\":[\"#636efa\",\"#EF553B\",\"#00cc96\",\"#ab63fa\",\"#FFA15A\",\"#19d3f3\",\"#FF6692\",\"#B6E880\",\"#FF97FF\",\"#FECB52\"],\"font\":{\"color\":\"#2a3f5f\"},\"hovermode\":\"closest\",\"hoverlabel\":{\"align\":\"left\"},\"paper_bgcolor\":\"white\",\"plot_bgcolor\":\"#E5ECF6\",\"polar\":{\"bgcolor\":\"#E5ECF6\",\"angularaxis\":{\"gridcolor\":\"white\",\"linecolor\":\"white\",\"ticks\":\"\"},\"radialaxis\":{\"gridcolor\":\"white\",\"linecolor\":\"white\",\"ticks\":\"\"}},\"ternary\":{\"bgcolor\":\"#E5ECF6\",\"aaxis\":{\"gridcolor\":\"white\",\"linecolor\":\"white\",\"ticks\":\"\"},\"baxis\":{\"gridcolor\":\"white\",\"linecolor\":\"white\",\"ticks\":\"\"},\"caxis\":{\"gridcolor\":\"white\",\"linecolor\":\"white\",\"ticks\":\"\"}},\"coloraxis\":{\"colorbar\":{\"outlinewidth\":0,\"ticks\":\"\"}},\"colorscale\":{\"sequential\":[[0.0,\"#0d0887\"],[0.1111111111111111,\"#46039f\"],[0.2222222222222222,\"#7201a8\"],[0.3333333333333333,\"#9c179e\"],[0.4444444444444444,\"#bd3786\"],[0.5555555555555556,\"#d8576b\"],[0.6666666666666666,\"#ed7953\"],[0.7777777777777778,\"#fb9f3a\"],[0.8888888888888888,\"#fdca26\"],[1.0,\"#f0f921\"]],\"sequentialminus\":[[0.0,\"#0d0887\"],[0.1111111111111111,\"#46039f\"],[0.2222222222222222,\"#7201a8\"],[0.3333333333333333,\"#9c179e\"],[0.4444444444444444,\"#bd3786\"],[0.5555555555555556,\"#d8576b\"],[0.6666666666666666,\"#ed7953\"],[0.7777777777777778,\"#fb9f3a\"],[0.8888888888888888,\"#fdca26\"],[1.0,\"#f0f921\"]],\"diverging\":[[0,\"#8e0152\"],[0.1,\"#c51b7d\"],[0.2,\"#de77ae\"],[0.3,\"#f1b6da\"],[0.4,\"#fde0ef\"],[0.5,\"#f7f7f7\"],[0.6,\"#e6f5d0\"],[0.7,\"#b8e186\"],[0.8,\"#7fbc41\"],[0.9,\"#4d9221\"],[1,\"#276419\"]]},\"xaxis\":{\"gridcolor\":\"white\",\"linecolor\":\"white\",\"ticks\":\"\",\"title\":{\"standoff\":15},\"zerolinecolor\":\"white\",\"automargin\":true,\"zerolinewidth\":2},\"yaxis\":{\"gridcolor\":\"white\",\"linecolor\":\"white\",\"ticks\":\"\",\"title\":{\"standoff\":15},\"zerolinecolor\":\"white\",\"automargin\":true,\"zerolinewidth\":2},\"scene\":{\"xaxis\":{\"backgroundcolor\":\"#E5ECF6\",\"gridcolor\":\"white\",\"linecolor\":\"white\",\"showbackground\":true,\"ticks\":\"\",\"zerolinecolor\":\"white\",\"gridwidth\":2},\"yaxis\":{\"backgroundcolor\":\"#E5ECF6\",\"gridcolor\":\"white\",\"linecolor\":\"white\",\"showbackground\":true,\"ticks\":\"\",\"zerolinecolor\":\"white\",\"gridwidth\":2},\"zaxis\":{\"backgroundcolor\":\"#E5ECF6\",\"gridcolor\":\"white\",\"linecolor\":\"white\",\"showbackground\":true,\"ticks\":\"\",\"zerolinecolor\":\"white\",\"gridwidth\":2}},\"shapedefaults\":{\"line\":{\"color\":\"#2a3f5f\"}},\"annotationdefaults\":{\"arrowcolor\":\"#2a3f5f\",\"arrowhead\":0,\"arrowwidth\":1},\"geo\":{\"bgcolor\":\"white\",\"landcolor\":\"#E5ECF6\",\"subunitcolor\":\"white\",\"showland\":true,\"showlakes\":true,\"lakecolor\":\"white\"},\"title\":{\"x\":0.05},\"mapbox\":{\"style\":\"light\"}}},\"xaxis\":{\"anchor\":\"y\",\"domain\":[0.0,0.45],\"matches\":\"x3\",\"showticklabels\":false},\"yaxis\":{\"anchor\":\"x\",\"domain\":[0.625,1.0]},\"xaxis2\":{\"anchor\":\"y2\",\"domain\":[0.55,1.0],\"matches\":\"x4\",\"showticklabels\":false},\"yaxis2\":{\"anchor\":\"x2\",\"domain\":[0.625,1.0]},\"xaxis3\":{\"anchor\":\"y3\",\"domain\":[0.0,0.45]},\"yaxis3\":{\"anchor\":\"x3\",\"domain\":[0.0,0.375]},\"xaxis4\":{\"anchor\":\"y4\",\"domain\":[0.55,1.0]},\"yaxis4\":{\"anchor\":\"x4\",\"domain\":[0.0,0.375]},\"annotations\":[{\"font\":{\"size\":16},\"showarrow\":false,\"text\":\"blockreward_usd\",\"x\":0.225,\"xanchor\":\"center\",\"xref\":\"paper\",\"y\":1.0,\"yanchor\":\"bottom\",\"yref\":\"paper\"},{\"font\":{\"size\":16},\"showarrow\":false,\"text\":\"hashrate\",\"x\":0.775,\"xanchor\":\"center\",\"xref\":\"paper\",\"y\":1.0,\"yanchor\":\"bottom\",\"yref\":\"paper\"},{\"font\":{\"size\":16},\"showarrow\":false,\"text\":\"difficulty\",\"x\":0.225,\"xanchor\":\"center\",\"xref\":\"paper\",\"y\":0.375,\"yanchor\":\"bottom\",\"yref\":\"paper\"},{\"font\":{\"size\":16},\"showarrow\":false,\"text\":\"supply_total\",\"x\":0.775,\"xanchor\":\"center\",\"xref\":\"paper\",\"y\":0.375,\"yanchor\":\"bottom\",\"yref\":\"paper\"}],\"title\":{\"text\":\"Target statistics\"},\"showlegend\":false},                        {\"responsive\": true}                    ).then(function(){\n",
       "                            \n",
       "var gd = document.getElementById('94f15c7c-056b-4fa6-b5f8-731609799aa1');\n",
       "var x = new MutationObserver(function (mutations, observer) {{\n",
       "        var display = window.getComputedStyle(gd).display;\n",
       "        if (!display || display === 'none') {{\n",
       "            console.log([gd, 'removed!']);\n",
       "            Plotly.purge(gd);\n",
       "            observer.disconnect();\n",
       "        }}\n",
       "}});\n",
       "\n",
       "// Listen for the removal of the full notebook cells\n",
       "var notebookContainer = gd.closest('#notebook-container');\n",
       "if (notebookContainer) {{\n",
       "    x.observe(notebookContainer, {childList: true});\n",
       "}}\n",
       "\n",
       "// Listen for the clearing of the current output cell\n",
       "var outputEl = gd.closest('.output');\n",
       "if (outputEl) {{\n",
       "    x.observe(outputEl, {childList: true});\n",
       "}}\n",
       "\n",
       "                        })                };                });            </script>        </div>"
      ]
     },
     "metadata": {},
     "output_type": "display_data"
    }
   ],
   "source": [
    "# 보다 관계를 명확히 파악하기 위해 barplot을 이용한 시각화 코드 작성\n",
    "fig: go.Figure = make_subplots(\n",
    "    rows=2,\n",
    "    cols=2,\n",
    "    shared_xaxes=True,\n",
    "    subplot_titles=(\n",
    "    \"blockreward_usd\",\n",
    "    \"hashrate\",\n",
    "    \"difficulty\",\n",
    "    \"supply_total\",\n",
    "    ),\n",
    ")\n",
    "_target_disrtibution = eda_df[\"target\"].value_counts() / len(eda_df)\n",
    "fig.add_trace(\n",
    "    go.Bar(\n",
    "        x=_target_disrtibution.index, \n",
    "        y=_target_disrtibution,\n",
    "    ), row=1, col=1\n",
    ")\n",
    "fig.add_trace(go.Bar(x=bar_df[\"target\"], y=bar_df[\"blockreward_usd\"]), row=1, col=1)\n",
    "fig.add_trace(go.Bar(x=bar_df[\"target\"], y=bar_df[\"hashrate\"]), row=1, col=2)\n",
    "fig.add_trace(go.Bar(x=bar_df[\"target\"], y=bar_df[\"difficulty\"]), row=2, col=1)\n",
    "fig.add_trace(go.Bar(x=bar_df[\"target\"], y=bar_df[\"supply_total\"]), row=2, col=2)\n",
    "fig.update_layout(title_text=\"Target statistics\", showlegend=False)\n",
    "fig.update_xaxes(title_text=\"Target\", row=3)\n",
    "fig.show()"
   ]
  },
  {
   "cell_type": "markdown",
   "metadata": {},
   "source": [
    "- blockreward_usd와 hashrate의 분산이 target 값이 [1,2]일 때 감소하고, [0,3]일 때 증가함\n",
    "- difficulty와 supply_total의 분산이 target 값이 [0,3]일 때 감소하고, [1,2]일 때 증가\n",
    "\n",
    "- 두 변수의 분산 간 비슷한 양상\n",
    "\n",
    "**가설**\n",
    "- blockreward_usd와 hashrate의 분산 변화: [1,2]일 경우 분산 감소 -> 시장의 동향이 더 안정적\n",
    "- difficulty와 supply_total의 분산 변화: [0,3]일 경우 분산 감소 -> 시장의 동향이 더 안정적\n",
    "\n",
    "**근데 차트상 저렇게 미묘하게 나오면 쓸 수 있나요?..**"
   ]
  },
  {
   "cell_type": "markdown",
   "metadata": {},
   "source": [
    "## blockreward_usd와 hashrate 간 상관관계"
   ]
  },
  {
   "cell_type": "code",
   "execution_count": 121,
   "metadata": {},
   "outputs": [
    {
     "name": "stdout",
     "output_type": "stream",
     "text": [
      "채굴 보상과 hashrate 상관관계: 0.9201558537183445\n"
     ]
    },
    {
     "data": {
      "image/png": "[encoded data removed]",
      "text/plain": [
       "<Figure size 1000x600 with 1 Axes>"
      ]
     },
     "metadata": {},
     "output_type": "display_data"
    }
   ],
   "source": [
    "import matplotlib.pyplot as plt\n",
    "import seaborn as sns\n",
    "\n",
    "#blockreward_usd & hashrate 상관계수 계산\n",
    "correlation = eda_df['blockreward_usd'].corr(eda_df['hashrate'])\n",
    "print(f\"채굴 보상과 hashrate 상관관계: {correlation}\")\n",
    "\n",
    "# 산점도와 회귀선 그리기\n",
    "plt.figure(figsize=(10, 6))\n",
    "sns.regplot(x='blockreward_usd', y='hashrate', data=eda_df, scatter_kws={'alpha':0.5}, line_kws={'color':'red'})\n",
    "plt.title('corr(blockreward_usd & hashrate)')\n",
    "plt.xlabel('blockreward_usd')\n",
    "plt.ylabel('hashrate')\n",
    "plt.grid(True)\n",
    "plt.show()"
   ]
  },
  {
   "cell_type": "markdown",
   "metadata": {},
   "source": [
    "##  difficulty와 supply_total 간 상관관계"
   ]
  },
  {
   "cell_type": "code",
   "execution_count": 122,
   "metadata": {},
   "outputs": [
    {
     "name": "stdout",
     "output_type": "stream",
     "text": [
      "채굴 보상과 hashrate 상관관계: 0.9742219056805032\n"
     ]
    },
    {
     "data": {
      "image/png": "[encoded data removed]",
      "text/plain": [
       "<Figure size 1000x600 with 1 Axes>"
      ]
     },
     "metadata": {},
     "output_type": "display_data"
    }
   ],
   "source": [
    "# difficulty와 supply_total 상관계수 계산\n",
    "correlation = eda_df['difficulty'].corr(eda_df['supply_total'])\n",
    "print(f\"채굴 보상과 hashrate 상관관계: {correlation}\")\n",
    "\n",
    "# 산점도와 회귀선 그리기\n",
    "plt.figure(figsize=(10, 6))\n",
    "sns.regplot(x='difficulty', y='supply_total', data=eda_df, scatter_kws={'alpha':0.5}, line_kws={'color':'red'})\n",
    "plt.title('corr(difficulty & supply_total)')\n",
    "plt.xlabel('difficulty')\n",
    "plt.ylabel('supply_total')\n",
    "plt.grid(True)\n",
    "plt.show()"
   ]
  },
  {
   "cell_type": "code",
   "execution_count": 107,
   "metadata": {},
   "outputs": [],
   "source": [
    "# column 추출\n",
    "# 2. ID, target, fees_block_mean, difficulty, block_count, close, volume\n",
    "# difficulty 높 - fee 높 - volume 낮 - 유동성 낮 - 가격급락 낮...\n",
    "# 가격 변동 심할 때, 거래수 제한 - block_count 변화 살펴보기\n",
    "# volume이 감소할수록 difficulty 증가할 것 (네트워크에서 트랜잭션이 적을 때, 블록 생성이 덜 이루어져서 상대적으로 난이도가 높아질 수 있다)\n",
    "# difficulty가 증가할 수록 fees_transaction_mean_usd도 증가할 것(난이도 높을수록 블록 생성 과정 복잡, 채굴자들이 더 많은 보상)\n",
    "\n",
    "cols_dict: Dict[str, str] = {\n",
    "    \"ID\": \"ID\",\n",
    "    \"target\": \"target\", \n",
    "    \"hourly_market-data_price-ohlcv_all_exchange_spot_btc_usd_volume\": \"volume\",\n",
    "    \"hourly_network-data_difficulty_difficulty\": \"difficulty\",\n",
    "    \"hourly_network-data_fees-transaction_fees_transaction_mean_usd\": \"fees_transaction_mean_usd\",\n",
    "    \"hourly_network-data_block-count_block_count\": \"block_count\",\n",
    "\n",
    "}\n",
    "5\n",
    "# 추출후 단순화를 위해 rename\n",
    "eda_df = eda_df[list(cols_dict.keys())].rename(cols_dict, axis=1)\n",
    "\n",
    "agg_df1 = eda_df.groupby('target')['volume'].describe()\n",
    "agg_df2 = eda_df.groupby('target')['difficulty'].describe()\n",
    "agg_df3 = eda_df.groupby('target')['fees_transaction_mean_usd'].describe()\n",
    "agg_df4 = eda_df.groupby('target')['block_count'].describe()\n",
    "\n",
    "#print(agg_df1) #mean\n",
    "print(agg_df2) #\n",
    "#print(agg_df3) #mean\n",
    "print(agg_df4) # 별 차이없음 ㅠㅠ\n",
    "# 거래가 적거나 블록당 보상이 적은 경우일수록 수수료가 낮아질 수 있음"
   ]
  },
  {
   "cell_type": "code",
   "execution_count": 108,
   "metadata": {},
   "outputs": [],
   "source": [
    "# 타겟 값 별로 변수의 평균 파익\n",
    "bar_df = eda_df.groupby(\"target\").agg({\n",
    "    \"volume\" : \"mean\",\n",
    "    \"difficulty\" : \"mean\",\n",
    "    \"fees_transaction_mean_usd\": \"mean\",\n",
    "    \"block_count\" : \"mean\",\n",
    "}).reset_index()\n",
    "bar_df"
   ]
  },
  {
   "cell_type": "code",
   "execution_count": 109,
   "metadata": {},
   "outputs": [],
   "source": [
    "# 보다 관계를 명확히 파악하기 위해 barplot을 이용한 시각화 코드 작성\n",
    "fig: go.Figure = make_subplots(\n",
    "    rows=2,\n",
    "    cols=2,\n",
    "    shared_xaxes=True,\n",
    "    subplot_titles=(\n",
    "    \"target distribution\",\n",
    "    \"volume\",\n",
    "    \"difficulty\",\n",
    "    \"fees_transaction_mean_usd\",\n",
    "    #\"block_count\",\n",
    "    ),\n",
    ")\n",
    "_target_disrtibution = eda_df[\"target\"].value_counts() / len(eda_df)\n",
    "fig.add_trace(\n",
    "    go.Bar(\n",
    "        x=_target_disrtibution.index, \n",
    "        y=_target_disrtibution,\n",
    "    ), row=1, col=1\n",
    ")\n",
    "fig.add_trace(go.Bar(x=bar_df[\"target\"], y=bar_df[\"volume\"]), row=1, col=2)\n",
    "fig.add_trace(go.Bar(x=bar_df[\"target\"], y=bar_df[\"difficulty\"]), row=2, col=1)\n",
    "fig.add_trace(go.Bar(x=bar_df[\"target\"], y=bar_df[\"fees_transaction_mean_usd\"]), row=2, col=2)\n",
    "#fig.add_trace(go.Bar(x=bar_df[\"target\"], y=bar_df[\"block_count\"]), row=3, col=1)\n",
    "fig.update_layout(title_text=\"Target statistics\", showlegend=False)\n",
    "fig.update_xaxes(title_text=\"Target\", row=3)\n",
    "fig.show()"
   ]
  },
  {
   "cell_type": "code",
   "execution_count": 110,
   "metadata": {},
   "outputs": [],
   "source": [
    "# Bar plot 생성\n",
    "mean_fees = eda_df.groupby('target')['fees_transaction_mean_usd'].mean().reset_index()\n",
    "\n",
    "fig = px.bar(\n",
    "    mean_fees, \n",
    "    x='target', \n",
    "    y='fees_transaction_mean_usd', \n",
    "    title='Mean Fees Transaction (USD) by Target',\n",
    "    labels={'fees_transaction_mean_usd': 'Mean Fees Transaction (USD)', 'target': 'Target'}\n",
    ")\n",
    "\n",
    "fig.show()\n"
   ]
  },
  {
   "cell_type": "code",
   "execution_count": 111,
   "metadata": {},
   "outputs": [],
   "source": [
    "# 각 target 그룹에 따른 fees_block_mean의 박스 플롯\n",
    "fig = make_subplots(rows=1, cols=1)\n",
    "\n",
    "for target_value in eda_df['target'].unique():\n",
    "    subset = eda_df[eda_df['target'] == target_value]\n",
    "    fig.add_trace(\n",
    "        go.Box(\n",
    "            y=subset['fees_transaction_mean_usd'], \n",
    "            name=f'Target {target_value}',\n",
    "            boxmean='sd'  # 박스 평균과 표준편차\n",
    "        )\n",
    "    )\n",
    "\n",
    "fig.update_layout(\n",
    "    title_text=\"Box Plot of Fees Block Mean by Target\",\n",
    "    yaxis_title=\"Fees Block Mean\"\n",
    ")\n",
    "\n",
    "fig.show()\n"
   ]
  },
  {
   "cell_type": "markdown",
   "metadata": {},
   "source": [
    "**이상치 제거 필요**"
   ]
  },
  {
   "cell_type": "code",
   "execution_count": 112,
   "metadata": {},
   "outputs": [],
   "source": [
    "fig = make_subplots(rows=1, cols=1)\n",
    "\n",
    "for target_value in eda_df['target'].unique():\n",
    "    subset = eda_df[eda_df['target'] == target_value]\n",
    "    fig.add_trace(\n",
    "        go.Histogram(\n",
    "            x=subset['fees_block_mean'], \n",
    "            name=f'Target {target_value}',\n",
    "            opacity=0.75\n",
    "        )\n",
    "    )\n",
    "\n",
    "fig.update_layout(\n",
    "    title_text=\"Histogram of Fees Block Mean by Target\",\n",
    "    xaxis_title=\"Fees Block Mean\",\n",
    "    yaxis_title=\"Count\",\n",
    "    barmode='overlay'  # 히스토그램을 겹치도록 설정\n",
    ")\n",
    "\n",
    "fig.show()\n"
   ]
  },
  {
   "cell_type": "markdown",
   "metadata": {},
   "source": [
    "[0,3] [1,2] 간 차이 명확 하다고 생각했는데 COUNT라 그런듯 ㅠ"
   ]
  },
  {
   "cell_type": "code",
   "execution_count": 113,
   "metadata": {},
   "outputs": [],
   "source": [
    "# 필요한 컬럼만 추출하여 상관계수 계산\n",
    "correlation_matrix = eda_df[['target', 'fees_transaction_mean_usd', 'volume', 'difficulty']].corr()\n",
    "print(correlation_matrix)\n",
    "\n",
    "# difficulty가 증가할 수록 fees_transaction_mean_usd도 증가할 것(난이도 높을수록 블록 생성 과정 복잡, 채굴자들이 더 많은 보상)\n",
    "# volume이 증가할수록 difficulty 감소할 것 (네트워크에서 트랜잭션이 많을 때, 블록 생성이 더 자주 이루어져서 상대적으로 난이도가 낮아질 수 있다)"
   ]
  },
  {
   "cell_type": "code",
   "execution_count": 114,
   "metadata": {},
   "outputs": [],
   "source": [
    "fig = go.Figure()\n",
    "\n",
    "# Volume Line\n",
    "fig.add_trace(go.Scatter(x=eda_df.index, y=eda_df['volume'], mode='lines', name='Volume'))\n",
    "\n",
    "# Difficulty Line\n",
    "fig.add_trace(go.Scatter(x=eda_df.index, y=eda_df['difficulty'], mode='lines', name='Difficulty', yaxis='y2'))\n",
    "\n",
    "# Fees Transaction Mean USD Line\n",
    "fig.add_trace(go.Scatter(x=eda_df.index, y=eda_df['fees_transaction_mean_usd'], mode='lines', name='Fees Transaction Mean USD', yaxis='y3'))\n",
    "\n",
    "# Layout\n",
    "fig.update_layout(\n",
    "    title=\"Volume, Difficulty, and Fees Transaction Mean over Time\",\n",
    "    xaxis_title=\"Time\",\n",
    "    yaxis=dict(title=\"Volume\"),\n",
    "    yaxis2=dict(title=\"Difficulty\", overlaying='y', side='right'),\n",
    "    yaxis3=dict(title=\"Fees Transaction Mean USD\", overlaying='y', side='right', anchor='free', position=0.85),\n",
    ")\n",
    "fig.show()\n"
   ]
  },
  {
   "cell_type": "markdown",
   "metadata": {},
   "source": [
    "** 가설 **\n",
    "- target과 volume\n",
    "- volume이 감소할수록 difficulty 증가할 것 (네트워크에서 트랜잭션이 많을 때, 블록 생성이 더 자주 이루어져서 상대적으로 난이도가 낮아질 수 있다)\n",
    "- difficulty가 증가할 수록 fees_transaction_mean_usd도 증가할 것(난이도 높을수록 블록 생성 과정 복잡, 채굴자들이 더 많은 보상) -> 이건 확인되지 않았다"
   ]
  },
  {
   "cell_type": "code",
   "execution_count": 115,
   "metadata": {},
   "outputs": [],
   "source": [
    "# 3. ID, target, open_interest, addresses_count_active, addresses_count_sender, addresses_count_receiver\n",
    "# difficulty 높 - fee 높 - volume 낮 - 유동성 낮 - 가격급락 낮...\n",
    "# 가격 변동 심할 때, 거래수 제한 - block_count 변화 살펴보기\n",
    "# volume이 감소할수록 difficulty 증가할 것 (네트워크에서 트랜잭션이 적을 때, 블록 생성이 덜 이루어져서 상대적으로 난이도가 높아질 수 있다)\n",
    "# difficulty가 증가할 수록 fees_transaction_mean_usd도 증가할 것(난이도 높을수록 블록 생성 과정 복잡, 채굴자들이 더 많은 보상)\n",
    "\n",
    "cols_dict: Dict[str, str] = {\n",
    "    \"ID\": \"ID\",\n",
    "    \"target\": \"target\", \n",
    "    \"hourly_market-data_open-interest_all_exchange_all_symbol_open_interest\": \"open_interest\",\n",
    "    \"hourly_network-data_addresses-count_addresses_count_active\": \"addresses_count_active\", #sender + receiver\n",
    "    \"hourly_network-data_addresses-count_addresses_count_sender\": \"addresses_count_sender\",\n",
    "    \"hourly_network-data_addresses-count_addresses_count_receiver\": \"addresses_count_receiver\",\n",
    "\n",
    "}\n",
    "\n",
    "# 추출후 단순화를 위해 rename\n",
    "eda_df = eda_df[list(cols_dict.keys())].rename(cols_dict, axis=1)\n",
    "\n",
    "agg_df1 = eda_df.groupby('target')['open_interest'].describe()\n",
    "agg_df2 = eda_df.groupby('target')['addresses_count_active'].describe()\n",
    "agg_df3 = eda_df.groupby('target')['addresses_count_sender'].describe()\n",
    "agg_df4 = eda_df.groupby('target')['addresses_count_receiver'].describe()\n",
    "\n",
    "#print(agg_df1)\n",
    "#print(agg_df2)\n",
    "print(agg_df3) #mean\n",
    "print(agg_df4) # 별 차이없음 ㅠㅠ\n",
    "# 거래가 적거나 블록당 보상이 적은 경우일수록 수수료가 낮아질 수 있음"
   ]
  },
  {
   "cell_type": "code",
   "execution_count": 116,
   "metadata": {},
   "outputs": [],
   "source": [
    "# 타겟 값 별로 변수의 평균 파익\n",
    "bar_df = eda_df.groupby(\"target\").agg({\n",
    "    \"open_interest\" : \"mean\",\n",
    "    \"addresses_count_active\" : \"mean\",\n",
    "    \"addresses_count_sender\": \"mean\",\n",
    "    \"addresses_count_receiver\" : \"mean\",\n",
    "}).reset_index()\n",
    "bar_df"
   ]
  },
  {
   "cell_type": "code",
   "execution_count": 117,
   "metadata": {},
   "outputs": [],
   "source": [
    "# 보다 관계를 명확히 파악하기 위해 barplot을 이용한 시각화 코드 작성\n",
    "fig: go.Figure = make_subplots(\n",
    "    rows=3,\n",
    "    cols=2,\n",
    "    shared_xaxes=True,\n",
    "    subplot_titles=(\n",
    "    \"target distribution\",\n",
    "    \"\",\n",
    "    \"open_interest\",\n",
    "    \"addresses_count_active\",\n",
    "    \"addresses_count_sender\",\n",
    "    \"addresses_count_receiver\",\n",
    "    ),\n",
    ")\n",
    "_target_disrtibution = eda_df[\"target\"].value_counts() / len(eda_df)\n",
    "fig.add_trace(\n",
    "    go.Bar(\n",
    "        x=_target_disrtibution.index, \n",
    "        y=_target_disrtibution,\n",
    "    ), row=1, col=1\n",
    ")\n",
    "fig.add_trace(go.Bar(x=bar_df[\"target\"], y=bar_df[\"open_interest\"]), row=2, col=1)\n",
    "fig.add_trace(go.Bar(x=bar_df[\"target\"], y=bar_df[\"addresses_count_active\"]), row=2, col=2)\n",
    "fig.add_trace(go.Bar(x=bar_df[\"target\"], y=bar_df[\"addresses_count_sender\"]), row=3, col=1)\n",
    "fig.add_trace(go.Bar(x=bar_df[\"target\"], y=bar_df[\"addresses_count_receiver\"]), row=3, col=2)\n",
    "fig.update_layout(title_text=\"Target statistics\", showlegend=False)\n",
    "fig.update_xaxes(title_text=\"Target\", row=3)\n",
    "fig.show()"
   ]
  },
  {
   "cell_type": "code",
   "execution_count": 118,
   "metadata": {},
   "outputs": [],
   "source": [
    "# liquidation, volume 으로 차이를 새로 생성하여 target 변수와의 관계 확인\n",
    "eda_df = eda_df.assign(\n",
    "    receiver_sender_diff=eda_df['addresses_count_receiver'] - eda_df['addresses_count_sender'],\n",
    ")\n",
    "bar_df = eda_df.groupby(\"target\").agg({\"receiver_sender_diff\" : \"mean\"}).reset_index()\n",
    "bar_df # target 별로 liquidation diff, volume diff 가 각각 평균적으로 양의 관계, 음의 관계를 갖고 있음을 확인"
   ]
  },
  {
   "cell_type": "code",
   "execution_count": 119,
   "metadata": {},
   "outputs": [],
   "source": [
    "fig: go.Figure = make_subplots(\n",
    "    rows=1,\n",
    "    cols=1,\n",
    "    shared_xaxes=True,\n",
    "    subplot_titles=(\n",
    "        'receiver_sender_diff'\n",
    "    ),\n",
    ")\n",
    "fig.add_trace(go.Bar(x=bar_df[\"target\"], y=bar_df['receiver_sender_diff']), row=1, col=1)\n",
    "fig.update_xaxes(title_text=\"Target\")\n",
    "fig.update_layout(title_text=\"Target statistics\", showlegend=False)\n",
    "fig.show()"
   ]
  }
 ],
 "metadata": {
  "kernelspec": {
   "display_name": "base",
   "language": "python",
   "name": "python3"
  },
  "language_info": {
   "codemirror_mode": {
    "name": "ipython",
    "version": 3
   },
   "file_extension": ".py",
   "mimetype": "text/x-python",
   "name": "python",
   "nbconvert_exporter": "python",
   "pygments_lexer": "ipython3",
   "version": "3.10.13"
  }
 },
 "nbformat": 4,
 "nbformat_minor": 2
}
